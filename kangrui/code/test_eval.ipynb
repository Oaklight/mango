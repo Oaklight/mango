{
 "cells": [
  {
   "cell_type": "code",
   "execution_count": 5,
   "id": "84e5b2ba",
   "metadata": {},
   "outputs": [],
   "source": [
    "import os.path as osp\n",
    "import os\n",
    "import pandas as pd\n",
    "import networkx as nx\n",
    "from utils.utils import get_timetsamp_with_random\n",
    "from utils.map_utils import get_game_info,show_graph_info,get_game_info_with_G_eval\n",
    "from utils.eval_gpt_utils import eval_rf_gpt_batch,eval_df_gpt_batch,get_csv\n",
    "import matplotlib.pyplot as plt\n",
    "import json"
   ]
  },
  {
   "cell_type": "code",
   "execution_count": 6,
   "id": "7bcddda8",
   "metadata": {},
   "outputs": [],
   "source": [
    "file_path=\"/share/data/mei-work/kangrui/github/mango/kangrui/data/inhouse_llms_results_pli/905/results/path_gen_llama/results_sample_id_7bcbbc55b52630255cd730b00aa83e7f8bc6935905eff6ac7a66b688d443f117.json\""
   ]
  },
  {
   "cell_type": "code",
   "execution_count": 7,
   "id": "e9367a10",
   "metadata": {},
   "outputs": [],
   "source": [
    "with open(file_path,'r') as f:\n",
    "    result_json = json.load(f)"
   ]
  },
  {
   "cell_type": "code",
   "execution_count": 8,
   "id": "dee5caf4",
   "metadata": {},
   "outputs": [
    {
     "name": "stdout",
     "output_type": "stream",
     "text": [
      "<class 'str'>\n"
     ]
    }
   ],
   "source": [
    "print(type(result_json['path']))"
   ]
  },
  {
   "cell_type": "code",
   "execution_count": 14,
   "id": "84a80998",
   "metadata": {},
   "outputs": [
    {
     "ename": "TypeError",
     "evalue": "eval() arg 1 must be a string, bytes or code object",
     "output_type": "error",
     "traceback": [
      "\u001b[0;31m---------------------------------------------------------------------------\u001b[0m",
      "\u001b[0;31mTypeError\u001b[0m                                 Traceback (most recent call last)",
      "\u001b[0;32m/tmp/ipykernel_132788/166276444.py\u001b[0m in \u001b[0;36m<module>\u001b[0;34m\u001b[0m\n\u001b[0;32m----> 1\u001b[0;31m \u001b[0meval\u001b[0m\u001b[0;34m(\u001b[0m\u001b[0;34m[\u001b[0m\u001b[0;34m'asd'\u001b[0m\u001b[0;34m]\u001b[0m\u001b[0;34m)\u001b[0m\u001b[0;34m\u001b[0m\u001b[0;34m\u001b[0m\u001b[0m\n\u001b[0m",
      "\u001b[0;31mTypeError\u001b[0m: eval() arg 1 must be a string, bytes or code object"
     ]
    }
   ],
   "source": [
    "eval(['asd'])"
   ]
  },
  {
   "cell_type": "code",
   "execution_count": 24,
   "id": "6f898d88",
   "metadata": {},
   "outputs": [],
   "source": [
    "import re"
   ]
  },
  {
   "cell_type": "code",
   "execution_count": 27,
   "id": "6608ad1d",
   "metadata": {},
   "outputs": [],
   "source": [
    "ss=\"\\n\\nAnswer:[{'location_before': 'Outside the Bungalow', 'action':  'down', 'location_after': 'Outside the Cottage'}, {'location_before': 'Outside the Cottage', 'action': 'north', 'location_after': 'Country Lane'}, {'location_before': 'Country Lane', 'action': 'west', 'location_after': 'Outside the Bungalow'}, {'location_before': 'Outside the Bungalow', 'action': 'down', 'location_after': 'Meadow Behind the Bungalow'}, {'location_before': 'Meadow Behind the Bungalow', 'action': 'north', 'location_after': 'Hilltop'}, {'location_before': 'Hilltop', 'action': 'down', 'location_after': 'Inside the School'}, {'location_before': 'Inside the School', 'action': 'north', 'location_after': 'Inside the Clock Tower'}, {'location_before': 'Inside the Clock Tower', 'action': 'down', 'location_after': 'Clock Tower Stairs'}]\""
   ]
  },
  {
   "cell_type": "code",
   "execution_count": 28,
   "id": "cac661fc",
   "metadata": {},
   "outputs": [],
   "source": [
    "tmp_text = re.search(r\"Answer:\\[(.*?)\\]\",ss.strip(),re.DOTALL)"
   ]
  },
  {
   "cell_type": "code",
   "execution_count": 31,
   "id": "01087291",
   "metadata": {},
   "outputs": [
    {
     "data": {
      "text/plain": [
       "\"[{'location_before': 'Outside the Bungalow', 'action':  'down', 'location_after': 'Outside the Cottage'}, {'location_before': 'Outside the Cottage', 'action': 'north', 'location_after': 'Country Lane'}, {'location_before': 'Country Lane', 'action': 'west', 'location_after': 'Outside the Bungalow'}, {'location_before': 'Outside the Bungalow', 'action': 'down', 'location_after': 'Meadow Behind the Bungalow'}, {'location_before': 'Meadow Behind the Bungalow', 'action': 'north', 'location_after': 'Hilltop'}, {'location_before': 'Hilltop', 'action': 'down', 'location_after': 'Inside the School'}, {'location_before': 'Inside the School', 'action': 'north', 'location_after': 'Inside the Clock Tower'}, {'location_before': 'Inside the Clock Tower', 'action': 'down', 'location_after': 'Clock Tower Stairs'}]\""
      ]
     },
     "execution_count": 31,
     "metadata": {},
     "output_type": "execute_result"
    }
   ],
   "source": [
    "tmp_text.group(0).strip().lstrip(\"Answer:\")"
   ]
  },
  {
   "cell_type": "code",
   "execution_count": null,
   "id": "9ff73372",
   "metadata": {},
   "outputs": [],
   "source": []
  }
 ],
 "metadata": {
  "kernelspec": {
   "display_name": "mango",
   "language": "python",
   "name": "mango"
  },
  "language_info": {
   "codemirror_mode": {
    "name": "ipython",
    "version": 3
   },
   "file_extension": ".py",
   "mimetype": "text/x-python",
   "name": "python",
   "nbconvert_exporter": "python",
   "pygments_lexer": "ipython3",
   "version": "3.9.7"
  }
 },
 "nbformat": 4,
 "nbformat_minor": 5
}

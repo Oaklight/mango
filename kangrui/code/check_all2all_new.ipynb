{
 "cells": [
  {
   "cell_type": "code",
   "execution_count": 1,
   "id": "67c7a358",
   "metadata": {},
   "outputs": [],
   "source": [
    "import os\n",
    "import os.path as osp\n",
    "import networkx as nx\n",
    "import json\n",
    "import matplotlib.pyplot as plt\n",
    "from utils.map_utils import get_game_info_with_G_eval\n",
    "from utils.map_utils_old import find_all_paths\n",
    "from utils.clean_utils import compute_hash_for_path"
   ]
  },
  {
   "cell_type": "code",
   "execution_count": 2,
   "id": "e3fc1893",
   "metadata": {},
   "outputs": [],
   "source": [
    "# note book input\n",
    "map_dir=f\"/share/data/mei-work/kangrui/github/mango/data/\""
   ]
  },
  {
   "cell_type": "code",
   "execution_count": 3,
   "id": "f7d0fe7d",
   "metadata": {},
   "outputs": [],
   "source": [
    "def simplify_and_hash_all2all(all2all):\n",
    "    hashed_path={}\n",
    "    hash_list=[]\n",
    "    for path in all2all:\n",
    "        path_detail=path['path_details']\n",
    "        hash_for_path=compute_hash_for_path(path_detail,\n",
    "                                          feature_list=[\"prev_node\",\"node\",\"action\",\n",
    "                                                        'seen_in_forward','step_min_cutoff'])\n",
    "        hashed_path[hash_for_path]=path_detail\n",
    "        hash_list.append(hash_for_path)\n",
    "    return hashed_path,hash_list\n",
    "\n",
    "def simplify_and_hash_G(G):\n",
    "    all_path=find_all_paths(G)\n",
    "    hashed_path={}\n",
    "    hash_list=[]\n",
    "    for path in all_path:\n",
    "        hash_for_path=compute_hash_for_path(path,\n",
    "                                          feature_list=[\"prev_node\",\"node\",\"action\",\n",
    "                                                        'seen_in_forward','step_min_cutoff'])\n",
    "        hashed_path[hash_for_path]=path\n",
    "        hash_list.append(hash_for_path)\n",
    "    return hashed_path,hash_list"
   ]
  },
  {
   "cell_type": "code",
   "execution_count": 6,
   "id": "d2a2cdfd",
   "metadata": {},
   "outputs": [],
   "source": [
    "file_names = os.listdir(map_dir)\n",
    "for game_name in file_names:\n",
    "    if game_name in [\"acorncourt\",\"weapon\",\"theatre\"]:\n",
    "        continue\n",
    "    G_eval,G,actions,locations,all2all,all_pairs,walkthrough=get_game_info_with_G_eval(map_dir,game_name)\n",
    "    hashed_path_all2all,hash_list_all2all=simplify_and_hash_all2all(all2all)\n",
    "    hashed_path_G,hash_list_G=simplify_and_hash_G(G)\n",
    "    if set(hashed_path_G.keys())!=set(hashed_path_all2all):\n",
    "        print(game_name)\n",
    "        print(len(hashed_path_G.keys()))\n",
    "        print(len(hashed_path_all2all.keys()))\n",
    "        print(len(hashed_path_G.keys())-len(hashed_path_all2all.keys()))\n",
    "        print(len(set(hashed_path_G.keys())-set(hashed_path_all2all.keys())))"
   ]
  },
  {
   "cell_type": "code",
   "execution_count": 7,
   "id": "32301726",
   "metadata": {},
   "outputs": [],
   "source": [
    "file_names = os.listdir(map_dir)\n",
    "for game_name in file_names:\n",
    "    if game_name in [\"acorncourt\",\"weapon\",\"theatre\"]:\n",
    "        continue\n",
    "    G_eval,G,actions,locations,all2all,all_pairs,walkthrough=get_game_info_with_G_eval(map_dir,game_name)\n",
    "    hashed_path_all2all,all2all_list=simplify_and_hash_all2all(all2all)\n",
    "    hashed_path_G,g_list=simplify_and_hash_G(G)\n",
    "\n",
    "    if len(set(all2all_list))!=len(all2all_list):\n",
    "        print(game_name)\n",
    "        print(len(set(all2all_list)))\n",
    "        print(len(all2all_list))\n",
    "        print(len(set(g_list)))\n",
    "        print(len(g_list))\n",
    "        print('-----------------------------------')\n",
    "# diff=set(hashed_path_all2all.keys())-set(hashed_path_G.keys())\n",
    "\n",
    "\n",
    "# for path_id in diff:\n",
    "#     for edge in hashed_path_all2all[path_id]:\n",
    "#         print(edge)\n",
    "#     break"
   ]
  }
 ],
 "metadata": {
  "kernelspec": {
   "display_name": "Python 3 (ipykernel)",
   "language": "python",
   "name": "python3"
  },
  "language_info": {
   "codemirror_mode": {
    "name": "ipython",
    "version": 3
   },
   "file_extension": ".py",
   "mimetype": "text/x-python",
   "name": "python",
   "nbconvert_exporter": "python",
   "pygments_lexer": "ipython3",
   "version": "3.9.7"
  }
 },
 "nbformat": 4,
 "nbformat_minor": 5
}

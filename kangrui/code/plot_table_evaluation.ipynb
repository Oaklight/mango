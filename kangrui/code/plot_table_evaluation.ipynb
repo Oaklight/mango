{
 "cells": [
  {
   "cell_type": "code",
   "execution_count": 22,
   "id": "9bbadd0f",
   "metadata": {},
   "outputs": [],
   "source": [
    "import csv\n",
    "from collections import defaultdict\n",
    "import os"
   ]
  },
  {
   "cell_type": "code",
   "execution_count": 23,
   "id": "dbac5737",
   "metadata": {},
   "outputs": [],
   "source": [
    "model_result_path={\n",
    "    \"RWKV\":'/share/data/mei-work/kangrui/github/mango/kangrui/eval_results/results_rmkv_overall_0713/rwkv',\n",
    "    \"RWKV-S\":'/share/data/mei-work/kangrui/github/mango/kangrui/eval_results/results_rmkv_overall_0713/rwkv_anno',\n",
    "    \"LLaMa\":'/share/data/mei-work/kangrui/github/mango/kangrui/eval_results/results_llama_overall_0713/llama',\n",
    "    \"LLaMa-S\":'/share/data/mei-work/kangrui/github/mango/kangrui/eval_results/results_llama_overall_0713/llama_anno',\n",
    "    \"LLaMa2\":'/share/data/mei-work/kangrui/github/mango/kangrui/eval_results/results_llama2_13b_base_overall_0816/llama',\n",
    "    \"LLaMa2-S\":'/share/data/mei-work/kangrui/github/mango/kangrui/eval_results/results_llama2_13b_base_overall_0816/llama_anno',\n",
    "    \"GPT-3.5\":'/share/data/mei-work/kangrui/github/mango/kangrui/eval_results/results_gpt_overall_0709/gpt-3.5-turbo',\n",
    "    \"GPT-4\":'/share/data/mei-work/kangrui/github/mango/kangrui/eval_results/results_gpt_overall_0709/gpt-4'\n",
    "}"
   ]
  },
  {
   "cell_type": "code",
   "execution_count": 24,
   "id": "6a014729",
   "metadata": {},
   "outputs": [],
   "source": [
    "def getresult(path,row_names=['name','total_evaluted','total_format_failed']):\n",
    "    data_all={}\n",
    "    for dirpath, _, filenames in os.walk(path):\n",
    "        for file in filenames:\n",
    "            if file.endswith('.csv') and 'loose' in file:\n",
    "                \n",
    "                full_path = os.path.join(dirpath, file)\n",
    "                \n",
    "                data = defaultdict(int)\n",
    "\n",
    "                # Open the .csv file in read mode\n",
    "                with open(full_path, 'r') as f:\n",
    "                    # Create a csv reader object\n",
    "                    \n",
    "                    reader = list(csv.DictReader(f))\n",
    "                    # Loop through each row in the .csv file\n",
    "                    second_last_row = reader[-2]\n",
    "                        # Append the data from the 'name' column to the name_list\n",
    "                        \n",
    "                    for name in row_names:\n",
    "                        data[name]=second_last_row[name]\n",
    "                \n",
    "                if 'stepnav' in full_path:\n",
    "                    data_all['df']=data\n",
    "                else:\n",
    "                    data_all['rf']=data\n",
    "    return data_all"
   ]
  },
  {
   "cell_type": "code",
   "execution_count": 25,
   "id": "18fd0253",
   "metadata": {},
   "outputs": [],
   "source": [
    "model_results_all={}\n",
    "for k,v in model_result_path.items():\n",
    "    model_results_all[k]=getresult(v)"
   ]
  },
  {
   "cell_type": "code",
   "execution_count": 28,
   "id": "3973fc9e",
   "metadata": {},
   "outputs": [
    {
     "data": {
      "text/plain": [
       "{'RWKV': {'df': defaultdict(int,\n",
       "              {'name': 'average',\n",
       "               'total_evaluted': '397.07547169811323',\n",
       "               'total_format_failed': '325.9811320754717'}),\n",
       "  'rf': defaultdict(int,\n",
       "              {'name': 'average',\n",
       "               'total_evaluted': '277.3207547169811',\n",
       "               'total_format_failed': '240.03773584905662'})},\n",
       " 'RWKV-S': {'df': defaultdict(int,\n",
       "              {'name': 'average',\n",
       "               'total_evaluted': '397.07547169811323',\n",
       "               'total_format_failed': '344.41509433962267'}),\n",
       "  'rf': defaultdict(int,\n",
       "              {'name': 'average',\n",
       "               'total_evaluted': '277.3207547169811',\n",
       "               'total_format_failed': '240.26415094339623'})},\n",
       " 'LLaMa': {'rf': defaultdict(int,\n",
       "              {'name': 'average',\n",
       "               'total_evaluted': '19.0',\n",
       "               'total_format_failed': '10.79245283018868'}),\n",
       "  'df': defaultdict(int,\n",
       "              {'name': 'average',\n",
       "               'total_evaluted': '19.660377358490567',\n",
       "               'total_format_failed': '6.245283018867925'})},\n",
       " 'LLaMa-S': {'rf': defaultdict(int,\n",
       "              {'name': 'average',\n",
       "               'total_evaluted': '153.67924528301887',\n",
       "               'total_format_failed': '107.05660377358491'}),\n",
       "  'df': defaultdict(int,\n",
       "              {'name': 'average',\n",
       "               'total_evaluted': '170.81132075471697',\n",
       "               'total_format_failed': '89.41509433962264'})},\n",
       " 'LLaMa2': {'df': defaultdict(int,\n",
       "              {'name': 'average',\n",
       "               'total_evaluted': '157.9811320754717',\n",
       "               'total_format_failed': '98.0'}),\n",
       "  'rf': defaultdict(int,\n",
       "              {'name': 'average',\n",
       "               'total_evaluted': '138.39622641509433',\n",
       "               'total_format_failed': '112.24528301886792'})},\n",
       " 'LLaMa2-S': {'rf': defaultdict(int,\n",
       "              {'name': 'average',\n",
       "               'total_evaluted': '277.3207547169811',\n",
       "               'total_format_failed': '208.39622641509433'}),\n",
       "  'df': defaultdict(int,\n",
       "              {'name': 'average',\n",
       "               'total_evaluted': '397.0943396226415',\n",
       "               'total_format_failed': '197.18867924528303'})},\n",
       " 'GPT-3.5': {'rf': defaultdict(int,\n",
       "              {'name': 'average',\n",
       "               'total_evaluted': '184.33962264150944',\n",
       "               'total_format_failed': '30.81132075471698'}),\n",
       "  'df': defaultdict(int,\n",
       "              {'name': 'average',\n",
       "               'total_evaluted': '259.50943396226415',\n",
       "               'total_format_failed': '65.60377358490567'})},\n",
       " 'GPT-4': {'rf': defaultdict(int,\n",
       "              {'name': 'average',\n",
       "               'total_evaluted': '184.33962264150944',\n",
       "               'total_format_failed': '2.490566037735849'}),\n",
       "  'df': defaultdict(int,\n",
       "              {'name': 'average',\n",
       "               'total_evaluted': '244.9245283018868',\n",
       "               'total_format_failed': '5.735849056603773'})}}"
      ]
     },
     "execution_count": 28,
     "metadata": {},
     "output_type": "execute_result"
    }
   ],
   "source": [
    "model_results_all"
   ]
  },
  {
   "cell_type": "code",
   "execution_count": null,
   "id": "252df50e",
   "metadata": {},
   "outputs": [],
   "source": []
  }
 ],
 "metadata": {
  "kernelspec": {
   "display_name": "Python 3 (ipykernel)",
   "language": "python",
   "name": "python3"
  },
  "language_info": {
   "codemirror_mode": {
    "name": "ipython",
    "version": 3
   },
   "file_extension": ".py",
   "mimetype": "text/x-python",
   "name": "python",
   "nbconvert_exporter": "python",
   "pygments_lexer": "ipython3",
   "version": "3.8.16"
  }
 },
 "nbformat": 4,
 "nbformat_minor": 5
}

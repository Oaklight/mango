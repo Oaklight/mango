{
 "cells": [
  {
   "cell_type": "code",
   "execution_count": 1,
   "id": "6a850051",
   "metadata": {},
   "outputs": [],
   "source": [
    "import os.path as osp\n",
    "import os\n",
    "import pandas as pd\n",
    "import networkx as nx\n",
    "from utils.utils import get_timetsamp_with_random\n",
    "from utils.map_utils import get_game_info,show_graph_info,get_game_info_with_G_eval\n",
    "import matplotlib.pyplot as plt\n",
    "import json"
   ]
  },
  {
   "cell_type": "code",
   "execution_count": 57,
   "id": "79266516",
   "metadata": {},
   "outputs": [],
   "source": [
    "G=nx.MultiDiGraph()"
   ]
  },
  {
   "cell_type": "code",
   "execution_count": 58,
   "id": "35a01979",
   "metadata": {},
   "outputs": [
    {
     "data": {
      "text/plain": [
       "0"
      ]
     },
     "execution_count": 58,
     "metadata": {},
     "output_type": "execute_result"
    }
   ],
   "source": [
    "G.add_edge('a', 'b', action=1,seen_in_forward=True)\n",
    "G.add_edge('a', 'b', action=2,seen_in_forward=True)\n",
    "G.add_edge('b', 'c', action=1,seen_in_forward=True)\n",
    "G.add_edge('b', 'c', action=2,seen_in_forward=True)\n",
    "G.add_edge('c', 'd', action=1,seen_in_forward=True)\n",
    "G.add_edge('c', 'd', action=2,seen_in_forward=True)\n",
    "G.add_edge('d', 'a', action=1,seen_in_forward=True)\n",
    "G.add_edge('q', 'p', action=2,seen_in_forward=True)"
   ]
  },
  {
   "cell_type": "code",
   "execution_count": 66,
   "id": "267a8f34",
   "metadata": {},
   "outputs": [
    {
     "name": "stdout",
     "output_type": "stream",
     "text": [
      "('a', 'b', {'action': 1, 'seen_in_forward': True})\n",
      "('a', 'b', {'action': 2, 'seen_in_forward': True})\n",
      "('b', 'c', {'action': 1, 'seen_in_forward': True})\n",
      "('b', 'c', {'action': 2, 'seen_in_forward': True})\n",
      "('c', 'd', {'action': 1, 'seen_in_forward': True})\n",
      "('c', 'd', {'action': 2, 'seen_in_forward': True})\n",
      "('d', 'a', {'action': 1, 'seen_in_forward': True})\n",
      "('q', 'p', {'action': 2, 'seen_in_forward': True})\n"
     ]
    }
   ],
   "source": [
    "for edge in G.edges(data=True):\n",
    "    print(edge)"
   ]
  },
  {
   "cell_type": "code",
   "execution_count": 59,
   "id": "5551198e",
   "metadata": {},
   "outputs": [],
   "source": [
    "def all_simple_paths_with_edge_attributes(G, source, target):\n",
    "    # This function will store the paths\n",
    "    def dfs_path(G, source, target, visited, path):\n",
    "        # Mark the node as visited\n",
    "        visited.add(source)\n",
    "\n",
    "        # If this is the target, add the path to paths\n",
    "        if source == target:\n",
    "            paths.append(list(path))\n",
    "        else:\n",
    "            # Recurse for all the neighbors\n",
    "            for neighbor in G[source]:\n",
    "                # If the neighbor is not visited\n",
    "                if neighbor not in visited:\n",
    "                    # Recurse over the edges\n",
    "                    edge_data = G[source][neighbor]\n",
    "                    for key in edge_data:\n",
    "                        # Get all edge attributes\n",
    "                        data = edge_data[key]\n",
    "                        # Add triplet to the path\n",
    "                        path.append((source, neighbor, data))\n",
    "                        dfs_path(G, neighbor, target, visited, path)\n",
    "                        # Remove triplet from the path\n",
    "                        path.pop()\n",
    "\n",
    "        # Mark node as unvisited\n",
    "        visited.remove(source)\n",
    "\n",
    "    paths = []\n",
    "    visited = set()\n",
    "    dfs_path(G, source, target, visited, [])\n",
    "\n",
    "    return paths"
   ]
  },
  {
   "cell_type": "code",
   "execution_count": 60,
   "id": "5afa381d",
   "metadata": {},
   "outputs": [],
   "source": [
    "def find_all_paths(G):\n",
    "    all_paths = []\n",
    "    for start_node in G.nodes:\n",
    "        for end_node in G.nodes:\n",
    "            if start_node != end_node:\n",
    "                for path in all_simple_paths_with_edge_attributes(G, start_node, end_node):\n",
    "                    all_paths.append(path)\n",
    "    return all_paths"
   ]
  },
  {
   "cell_type": "code",
   "execution_count": 65,
   "id": "b5f4b5c6",
   "metadata": {},
   "outputs": [
    {
     "name": "stdout",
     "output_type": "stream",
     "text": [
      "{1, 2}\n"
     ]
    }
   ],
   "source": [
    "edge_data = set(value['action'] for value in G['a']['b'].values())\n",
    "print(edge_data)"
   ]
  },
  {
   "cell_type": "code",
   "execution_count": 62,
   "id": "08db47f5",
   "metadata": {},
   "outputs": [
    {
     "data": {
      "text/plain": [
       "[[('a', 'b', {'action': 1, 'seen_in_forward': True})],\n",
       " [('a', 'b', {'action': 2, 'seen_in_forward': True})],\n",
       " [('a', 'b', {'action': 1, 'seen_in_forward': True}),\n",
       "  ('b', 'c', {'action': 1, 'seen_in_forward': True})],\n",
       " [('a', 'b', {'action': 1, 'seen_in_forward': True}),\n",
       "  ('b', 'c', {'action': 2, 'seen_in_forward': True})],\n",
       " [('a', 'b', {'action': 2, 'seen_in_forward': True}),\n",
       "  ('b', 'c', {'action': 1, 'seen_in_forward': True})],\n",
       " [('a', 'b', {'action': 2, 'seen_in_forward': True}),\n",
       "  ('b', 'c', {'action': 2, 'seen_in_forward': True})],\n",
       " [('a', 'b', {'action': 1, 'seen_in_forward': True}),\n",
       "  ('b', 'c', {'action': 1, 'seen_in_forward': True}),\n",
       "  ('c', 'd', {'action': 1, 'seen_in_forward': True})],\n",
       " [('a', 'b', {'action': 1, 'seen_in_forward': True}),\n",
       "  ('b', 'c', {'action': 1, 'seen_in_forward': True}),\n",
       "  ('c', 'd', {'action': 2, 'seen_in_forward': True})],\n",
       " [('a', 'b', {'action': 1, 'seen_in_forward': True}),\n",
       "  ('b', 'c', {'action': 2, 'seen_in_forward': True}),\n",
       "  ('c', 'd', {'action': 1, 'seen_in_forward': True})],\n",
       " [('a', 'b', {'action': 1, 'seen_in_forward': True}),\n",
       "  ('b', 'c', {'action': 2, 'seen_in_forward': True}),\n",
       "  ('c', 'd', {'action': 2, 'seen_in_forward': True})],\n",
       " [('a', 'b', {'action': 2, 'seen_in_forward': True}),\n",
       "  ('b', 'c', {'action': 1, 'seen_in_forward': True}),\n",
       "  ('c', 'd', {'action': 1, 'seen_in_forward': True})],\n",
       " [('a', 'b', {'action': 2, 'seen_in_forward': True}),\n",
       "  ('b', 'c', {'action': 1, 'seen_in_forward': True}),\n",
       "  ('c', 'd', {'action': 2, 'seen_in_forward': True})],\n",
       " [('a', 'b', {'action': 2, 'seen_in_forward': True}),\n",
       "  ('b', 'c', {'action': 2, 'seen_in_forward': True}),\n",
       "  ('c', 'd', {'action': 1, 'seen_in_forward': True})],\n",
       " [('a', 'b', {'action': 2, 'seen_in_forward': True}),\n",
       "  ('b', 'c', {'action': 2, 'seen_in_forward': True}),\n",
       "  ('c', 'd', {'action': 2, 'seen_in_forward': True})],\n",
       " [('b', 'c', {'action': 1, 'seen_in_forward': True}),\n",
       "  ('c', 'd', {'action': 1, 'seen_in_forward': True}),\n",
       "  ('d', 'a', {'action': 1, 'seen_in_forward': True})],\n",
       " [('b', 'c', {'action': 1, 'seen_in_forward': True}),\n",
       "  ('c', 'd', {'action': 2, 'seen_in_forward': True}),\n",
       "  ('d', 'a', {'action': 1, 'seen_in_forward': True})],\n",
       " [('b', 'c', {'action': 2, 'seen_in_forward': True}),\n",
       "  ('c', 'd', {'action': 1, 'seen_in_forward': True}),\n",
       "  ('d', 'a', {'action': 1, 'seen_in_forward': True})],\n",
       " [('b', 'c', {'action': 2, 'seen_in_forward': True}),\n",
       "  ('c', 'd', {'action': 2, 'seen_in_forward': True}),\n",
       "  ('d', 'a', {'action': 1, 'seen_in_forward': True})],\n",
       " [('b', 'c', {'action': 1, 'seen_in_forward': True})],\n",
       " [('b', 'c', {'action': 2, 'seen_in_forward': True})],\n",
       " [('b', 'c', {'action': 1, 'seen_in_forward': True}),\n",
       "  ('c', 'd', {'action': 1, 'seen_in_forward': True})],\n",
       " [('b', 'c', {'action': 1, 'seen_in_forward': True}),\n",
       "  ('c', 'd', {'action': 2, 'seen_in_forward': True})],\n",
       " [('b', 'c', {'action': 2, 'seen_in_forward': True}),\n",
       "  ('c', 'd', {'action': 1, 'seen_in_forward': True})],\n",
       " [('b', 'c', {'action': 2, 'seen_in_forward': True}),\n",
       "  ('c', 'd', {'action': 2, 'seen_in_forward': True})],\n",
       " [('c', 'd', {'action': 1, 'seen_in_forward': True}),\n",
       "  ('d', 'a', {'action': 1, 'seen_in_forward': True})],\n",
       " [('c', 'd', {'action': 2, 'seen_in_forward': True}),\n",
       "  ('d', 'a', {'action': 1, 'seen_in_forward': True})],\n",
       " [('c', 'd', {'action': 1, 'seen_in_forward': True}),\n",
       "  ('d', 'a', {'action': 1, 'seen_in_forward': True}),\n",
       "  ('a', 'b', {'action': 1, 'seen_in_forward': True})],\n",
       " [('c', 'd', {'action': 1, 'seen_in_forward': True}),\n",
       "  ('d', 'a', {'action': 1, 'seen_in_forward': True}),\n",
       "  ('a', 'b', {'action': 2, 'seen_in_forward': True})],\n",
       " [('c', 'd', {'action': 2, 'seen_in_forward': True}),\n",
       "  ('d', 'a', {'action': 1, 'seen_in_forward': True}),\n",
       "  ('a', 'b', {'action': 1, 'seen_in_forward': True})],\n",
       " [('c', 'd', {'action': 2, 'seen_in_forward': True}),\n",
       "  ('d', 'a', {'action': 1, 'seen_in_forward': True}),\n",
       "  ('a', 'b', {'action': 2, 'seen_in_forward': True})],\n",
       " [('c', 'd', {'action': 1, 'seen_in_forward': True})],\n",
       " [('c', 'd', {'action': 2, 'seen_in_forward': True})],\n",
       " [('d', 'a', {'action': 1, 'seen_in_forward': True})],\n",
       " [('d', 'a', {'action': 1, 'seen_in_forward': True}),\n",
       "  ('a', 'b', {'action': 1, 'seen_in_forward': True})],\n",
       " [('d', 'a', {'action': 1, 'seen_in_forward': True}),\n",
       "  ('a', 'b', {'action': 2, 'seen_in_forward': True})],\n",
       " [('d', 'a', {'action': 1, 'seen_in_forward': True}),\n",
       "  ('a', 'b', {'action': 1, 'seen_in_forward': True}),\n",
       "  ('b', 'c', {'action': 1, 'seen_in_forward': True})],\n",
       " [('d', 'a', {'action': 1, 'seen_in_forward': True}),\n",
       "  ('a', 'b', {'action': 1, 'seen_in_forward': True}),\n",
       "  ('b', 'c', {'action': 2, 'seen_in_forward': True})],\n",
       " [('d', 'a', {'action': 1, 'seen_in_forward': True}),\n",
       "  ('a', 'b', {'action': 2, 'seen_in_forward': True}),\n",
       "  ('b', 'c', {'action': 1, 'seen_in_forward': True})],\n",
       " [('d', 'a', {'action': 1, 'seen_in_forward': True}),\n",
       "  ('a', 'b', {'action': 2, 'seen_in_forward': True}),\n",
       "  ('b', 'c', {'action': 2, 'seen_in_forward': True})],\n",
       " [('q', 'p', {'action': 2, 'seen_in_forward': True})]]"
      ]
     },
     "execution_count": 62,
     "metadata": {},
     "output_type": "execute_result"
    }
   ],
   "source": [
    "find_all_paths(G)"
   ]
  },
  {
   "cell_type": "code",
   "execution_count": null,
   "id": "580c589b",
   "metadata": {},
   "outputs": [],
   "source": [
    "def find_all_paths_old(G):\n",
    "    all_paths = []\n",
    "    for start_node in G.nodes:\n",
    "        for end_node in G.nodes:\n",
    "            if start_node != end_node:\n",
    "                for path in all_simple_paths_with_edge_attributes(G, start_node, end_node, 'action'):\n",
    "                    all_paths.append(path)\n",
    "    return all_paths"
   ]
  }
 ],
 "metadata": {
  "kernelspec": {
   "display_name": "mango",
   "language": "python",
   "name": "mango"
  },
  "language_info": {
   "codemirror_mode": {
    "name": "ipython",
    "version": 3
   },
   "file_extension": ".py",
   "mimetype": "text/x-python",
   "name": "python",
   "nbconvert_exporter": "python",
   "pygments_lexer": "ipython3",
   "version": "3.9.7"
  }
 },
 "nbformat": 4,
 "nbformat_minor": 5
}

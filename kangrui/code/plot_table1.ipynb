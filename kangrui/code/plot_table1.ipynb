{
 "cells": [
  {
   "cell_type": "code",
   "execution_count": 15,
   "id": "c88d4abd",
   "metadata": {},
   "outputs": [],
   "source": [
    "import pandas as pd\n",
    "import os\n",
    "from itertools import combinations\n",
    "import os.path as osp\n",
    "difficulty=\"loose\"\n",
    "date=\"0117\"\n",
    "model_names=['llama2',\n",
    "        'llama2_anno',\n",
    "        'llama',\n",
    "        'llama_anno',\n",
    "        'codellama_instruct_anno',\n",
    "        'codellama_instruct',\n",
    "        'codellama_anno',\n",
    "        'codellama',\n",
    "        'gpt-3.5-turbo',\n",
    "        'gpt-4',\n",
    "        'claude-instant-1',\n",
    "        'claude-2',\n",
    "        'rwkv',\n",
    "        'rwkv_anno']\n",
    "src_dir=\"/share/data/mei-work/kangrui/github/mango/kangrui/eval_results\"\n",
    "save_dir=\"/share/data/mei-work/kangrui/github/mango/kangrui/eval_results\"\n",
    "save_all_flag=1"
   ]
  },
  {
   "cell_type": "code",
   "execution_count": 16,
   "id": "3a47e345",
   "metadata": {},
   "outputs": [
    {
     "name": "stdout",
     "output_type": "stream",
     "text": [
      "['/share/data/mei-work/kangrui/github/mango/kangrui/eval_results/results_llama2_anno_vs_rwkv_0117_loose', '/share/data/mei-work/kangrui/github/mango/kangrui/eval_results/results_llama2_vs_codellama_instruct_0117_loose', '/share/data/mei-work/kangrui/github/mango/kangrui/eval_results/results_llama_vs_codellama_anno_0117_loose', '/share/data/mei-work/kangrui/github/mango/kangrui/eval_results/results_llama_vs_claude-2_0117_loose', '/share/data/mei-work/kangrui/github/mango/kangrui/eval_results/results_llama_vs_gpt-3.5-turbo_0117_loose', '/share/data/mei-work/kangrui/github/mango/kangrui/eval_results/results_llama_anno_vs_gpt-3.5-turbo_0117_loose', '/share/data/mei-work/kangrui/github/mango/kangrui/eval_results/results_llama2_anno_vs_llama_0117_loose', '/share/data/mei-work/kangrui/github/mango/kangrui/eval_results/results_llama2_vs_gpt-3.5-turbo_0117_loose', '/share/data/mei-work/kangrui/github/mango/kangrui/eval_results/results_llama_anno_vs_claude-instant-1_0117_loose', '/share/data/mei-work/kangrui/github/mango/kangrui/eval_results/results_llama2_anno_vs_codellama_instruct_anno_0117_loose', '/share/data/mei-work/kangrui/github/mango/kangrui/eval_results/results_llama_anno_vs_rwkv_anno_0117_loose', '/share/data/mei-work/kangrui/github/mango/kangrui/eval_results/results_llama2_vs_claude-instant-1_0117_loose', '/share/data/mei-work/kangrui/github/mango/kangrui/eval_results/results_llama2_vs_codellama_0117_loose', '/share/data/mei-work/kangrui/github/mango/kangrui/eval_results/results_llama_vs_rwkv_0117_loose', '/share/data/mei-work/kangrui/github/mango/kangrui/eval_results/results_llama_anno_vs_codellama_anno_0117_loose', '/share/data/mei-work/kangrui/github/mango/kangrui/eval_results/results_llama2_vs_llama2_anno_0117_loose', '/share/data/mei-work/kangrui/github/mango/kangrui/eval_results/results_llama2_vs_rwkv_anno_0117_loose', '/share/data/mei-work/kangrui/github/mango/kangrui/eval_results/results_llama_anno_vs_codellama_0117_loose', '/share/data/mei-work/kangrui/github/mango/kangrui/eval_results/results_llama2_vs_gpt-4_0117_loose', '/share/data/mei-work/kangrui/github/mango/kangrui/eval_results/results_llama_vs_claude-instant-1_0117_loose', '/share/data/mei-work/kangrui/github/mango/kangrui/eval_results/results_llama2_vs_llama_0117_loose', '/share/data/mei-work/kangrui/github/mango/kangrui/eval_results/results_codellama_instruct_anno_vs_codellama_instruct_0117_loose', '/share/data/mei-work/kangrui/github/mango/kangrui/eval_results/results_llama2_anno_vs_claude-2_0117_loose', '/share/data/mei-work/kangrui/github/mango/kangrui/eval_results/results_llama2_anno_vs_codellama_0117_loose', '/share/data/mei-work/kangrui/github/mango/kangrui/eval_results/results_llama_anno_vs_codellama_instruct_0117_loose', '/share/data/mei-work/kangrui/github/mango/kangrui/eval_results/results_llama_vs_codellama_instruct_anno_0117_loose', '/share/data/mei-work/kangrui/github/mango/kangrui/eval_results/results_llama2_anno_vs_codellama_instruct_0117_loose', '/share/data/mei-work/kangrui/github/mango/kangrui/eval_results/results_llama2_vs_codellama_instruct_anno_0117_loose', '/share/data/mei-work/kangrui/github/mango/kangrui/eval_results/results_llama_anno_vs_rwkv_0117_loose', '/share/data/mei-work/kangrui/github/mango/kangrui/eval_results/results_llama2_anno_vs_rwkv_anno_0117_loose', '/share/data/mei-work/kangrui/github/mango/kangrui/eval_results/results_llama2_anno_vs_claude-instant-1_0117_loose', '/share/data/mei-work/kangrui/github/mango/kangrui/eval_results/results_llama2_anno_vs_gpt-3.5-turbo_0117_loose', '/share/data/mei-work/kangrui/github/mango/kangrui/eval_results/results_llama_vs_llama_anno_0117_loose', '/share/data/mei-work/kangrui/github/mango/kangrui/eval_results/results_llama2_anno_vs_gpt-4_0117_loose', '/share/data/mei-work/kangrui/github/mango/kangrui/eval_results/results_llama_anno_vs_codellama_instruct_anno_0117_loose', '/share/data/mei-work/kangrui/github/mango/kangrui/eval_results/results_llama2_anno_vs_codellama_anno_0117_loose', '/share/data/mei-work/kangrui/github/mango/kangrui/eval_results/results_llama_vs_rwkv_anno_0117_loose', '/share/data/mei-work/kangrui/github/mango/kangrui/eval_results/results_llama_vs_gpt-4_0117_loose', '/share/data/mei-work/kangrui/github/mango/kangrui/eval_results/results_llama2_vs_claude-2_0117_loose', '/share/data/mei-work/kangrui/github/mango/kangrui/eval_results/results_llama_vs_codellama_instruct_0117_loose', '/share/data/mei-work/kangrui/github/mango/kangrui/eval_results/results_llama2_vs_llama_anno_0117_loose', '/share/data/mei-work/kangrui/github/mango/kangrui/eval_results/results_llama2_anno_vs_llama_anno_0117_loose', '/share/data/mei-work/kangrui/github/mango/kangrui/eval_results/results_llama2_vs_codellama_anno_0117_loose', '/share/data/mei-work/kangrui/github/mango/kangrui/eval_results/results_llama_anno_vs_gpt-4_0117_loose', '/share/data/mei-work/kangrui/github/mango/kangrui/eval_results/results_llama2_vs_rwkv_0117_loose', '/share/data/mei-work/kangrui/github/mango/kangrui/eval_results/results_llama_anno_vs_claude-2_0117_loose', '/share/data/mei-work/kangrui/github/mango/kangrui/eval_results/results_llama_vs_codellama_0117_loose']\n"
     ]
    }
   ],
   "source": [
    "combined_model_names=combinations(model_names,2)\n",
    "possible_path_list=[]\n",
    "for combine_name in combined_model_names:\n",
    "    path1=osp.join(src_dir,f\"results_{combine_name[0]}_vs_{combine_name[1]}_{date}_{difficulty}\")\n",
    "    path2=osp.join(src_dir,f\"results_{combine_name[1]}_vs_{combine_name[0]}_{date}_{difficulty}\")\n",
    "    possible_path_list.append(path1)\n",
    "    possible_path_list.append(path2)\n",
    "# print(possible_path_list)\n",
    "# print(list(os.listdir(src_dir)))\n",
    "folders=[osp.join(src_dir,path) for path in list(os.listdir(src_dir)) if osp.join(src_dir,path) in possible_path_list]\n",
    "print(folders)\n",
    "# folder_paths = [\n",
    "#     f\"/share/data/mei-work/kangrui/github/mango/kangrui/eval_results/results_gpt-3.5-turbo_vs_gpt-4_{date}_{difficulty}\",\n",
    "#     f\"/share/data/mei-work/kangrui/github/mango/kangrui/eval_results/results_gpt-3.5-turbo_vs_rwkv_{date}_{difficulty}\",\n",
    "#     f\"/share/data/mei-work/kangrui/github/mango/kangrui/eval_results/results_gpt-3.5-turbo_vs_rwkv_anno_{date}_{difficulty}\",\n",
    "#     f\"/share/data/mei-work/kangrui/github/mango/kangrui/eval_results/results_gpt-4_vs_rwkv_{date}_{difficulty}\",\n",
    "#     f\"/share/data/mei-work/kangrui/github/mango/kangrui/eval_results/results_gpt-4_vs_rwkv_anno_{date}_{difficulty}\",\n",
    "    \n",
    "#     f\"/share/data/mei-work/kangrui/github/mango/kangrui/eval_results/results_llama_anno_vs_gpt-3.5-turbo_{date}_{difficulty}\",\n",
    "#     f\"/share/data/mei-work/kangrui/github/mango/kangrui/eval_results/results_llama_anno_vs_gpt-4_{date}_{difficulty}\",\n",
    "#     f\"/share/data/mei-work/kangrui/github/mango/kangrui/eval_results/results_llama_anno_vs_rwkv_{date}_{difficulty}\",\n",
    "#     f\"/share/data/mei-work/kangrui/github/mango/kangrui/eval_results/results_llama_anno_vs_rwkv_anno_{date}_{difficulty}\",\n",
    "    \n",
    "#     f\"/share/data/mei-work/kangrui/github/mango/kangrui/eval_results/results_llama_vs_gpt-3.5-turbo_{date}_{difficulty}\",\n",
    "#     f\"/share/data/mei-work/kangrui/github/mango/kangrui/eval_results/results_llama_vs_gpt-4_{date}_{difficulty}\",\n",
    "#     f\"/share/data/mei-work/kangrui/github/mango/kangrui/eval_results/results_llama_vs_llama_anno_{date}_{difficulty}\",\n",
    "#     f\"/share/data/mei-work/kangrui/github/mango/kangrui/eval_results/results_llama_vs_rwkv_{date}_{difficulty}\",\n",
    "#     f\"/share/data/mei-work/kangrui/github/mango/kangrui/eval_results/results_llama_vs_rwkv_anno_{date}_{difficulty}\",\n",
    "    \n",
    "#     f\"/share/data/mei-work/kangrui/github/mango/kangrui/eval_results/results_rwkv_vs_rwkv_anno_{date}_{difficulty}\"\n",
    "# ]\n",
    "\n",
    "def load_data_from_folders(folders):\n",
    "    # Dictionary to hold all the dataframes\n",
    "    data = {}\n",
    "\n",
    "    for folder in folders:\n",
    "        # Extract the model names from the subdirectories of the root folder\n",
    "        model_names = [name for name in os.listdir(folder) if os.path.isdir(os.path.join(folder, name))]\n",
    "\n",
    "        for model_a in model_names:\n",
    "            for task in ['pathgen', 'stepnav']:\n",
    "                csv_path = os.path.join(folder, model_a, task)\n",
    "                for file in os.listdir(csv_path):\n",
    "                    if file.endswith('.csv'):\n",
    "                        model_b = model_names[1] if model_a == model_names[0] else model_names[0]\n",
    "                        df = pd.read_csv(os.path.join(csv_path, file))\n",
    "                        last_row = df.iloc[-1]\n",
    "\n",
    "                        # Store the data for this model and task\n",
    "                        key = (task, model_a, model_b)\n",
    "                        data[key] = {\n",
    "                            'easy_success_rate': last_row['easy_success_rate'],\n",
    "                            'hard_success_rate': last_row['hard_success_rate'],\n",
    "                            'easy_reasoning_acc': last_row['easy_reasoning_acc'],\n",
    "                            'hard_reasoning_acc': last_row['hard_reasoning_acc']\n",
    "                        }\n",
    "    return data\n"
   ]
  },
  {
   "cell_type": "code",
   "execution_count": 13,
   "id": "726a6e5b",
   "metadata": {},
   "outputs": [
    {
     "ename": "FileNotFoundError",
     "evalue": "[Errno 2] No such file or directory: '/share/data/mei-work/kangrui/github/mango/kangrui/eval_results/results_llama_anno_vs_gpt-4_0117_loose/gpt-4/pathgen'",
     "output_type": "error",
     "traceback": [
      "\u001b[0;31m---------------------------------------------------------------------------\u001b[0m",
      "\u001b[0;31mFileNotFoundError\u001b[0m                         Traceback (most recent call last)",
      "Cell \u001b[0;32mIn[13], line 1\u001b[0m\n\u001b[0;32m----> 1\u001b[0m data\u001b[38;5;241m=\u001b[39m\u001b[43mload_data_from_folders\u001b[49m\u001b[43m(\u001b[49m\u001b[43mfolders\u001b[49m\u001b[43m)\u001b[49m\n",
      "Cell \u001b[0;32mIn[12], line 44\u001b[0m, in \u001b[0;36mload_data_from_folders\u001b[0;34m(folders)\u001b[0m\n\u001b[1;32m     42\u001b[0m \u001b[38;5;28;01mfor\u001b[39;00m task \u001b[38;5;129;01min\u001b[39;00m [\u001b[38;5;124m'\u001b[39m\u001b[38;5;124mpathgen\u001b[39m\u001b[38;5;124m'\u001b[39m, \u001b[38;5;124m'\u001b[39m\u001b[38;5;124mstepnav\u001b[39m\u001b[38;5;124m'\u001b[39m]:\n\u001b[1;32m     43\u001b[0m     csv_path \u001b[38;5;241m=\u001b[39m os\u001b[38;5;241m.\u001b[39mpath\u001b[38;5;241m.\u001b[39mjoin(folder, model_a, task)\n\u001b[0;32m---> 44\u001b[0m     \u001b[38;5;28;01mfor\u001b[39;00m file \u001b[38;5;129;01min\u001b[39;00m \u001b[43mos\u001b[49m\u001b[38;5;241;43m.\u001b[39;49m\u001b[43mlistdir\u001b[49m\u001b[43m(\u001b[49m\u001b[43mcsv_path\u001b[49m\u001b[43m)\u001b[49m:\n\u001b[1;32m     45\u001b[0m         \u001b[38;5;28;01mif\u001b[39;00m file\u001b[38;5;241m.\u001b[39mendswith(\u001b[38;5;124m'\u001b[39m\u001b[38;5;124m.csv\u001b[39m\u001b[38;5;124m'\u001b[39m):\n\u001b[1;32m     46\u001b[0m             model_b \u001b[38;5;241m=\u001b[39m model_names[\u001b[38;5;241m1\u001b[39m] \u001b[38;5;28;01mif\u001b[39;00m model_a \u001b[38;5;241m==\u001b[39m model_names[\u001b[38;5;241m0\u001b[39m] \u001b[38;5;28;01melse\u001b[39;00m model_names[\u001b[38;5;241m0\u001b[39m]\n",
      "\u001b[0;31mFileNotFoundError\u001b[0m: [Errno 2] No such file or directory: '/share/data/mei-work/kangrui/github/mango/kangrui/eval_results/results_llama_anno_vs_gpt-4_0117_loose/gpt-4/pathgen'"
     ]
    }
   ],
   "source": [
    "data=load_data_from_folders(folders)\n",
    "import json\n",
    "if save_all_flag:\n",
    "    with open(osp.join(save_dir,\"{date}_{difficulty}_paircomp.json\"),'w') as f:\n",
    "        json.dump(data,f,indent=4)"
   ]
  },
  {
   "cell_type": "code",
   "execution_count": 14,
   "id": "c890daf8",
   "metadata": {},
   "outputs": [
    {
     "ename": "NameError",
     "evalue": "name 'data' is not defined",
     "output_type": "error",
     "traceback": [
      "\u001b[0;31m---------------------------------------------------------------------------\u001b[0m",
      "\u001b[0;31mNameError\u001b[0m                                 Traceback (most recent call last)",
      "Cell \u001b[0;32mIn[14], line 1\u001b[0m\n\u001b[0;32m----> 1\u001b[0m \u001b[38;5;28mlen\u001b[39m(\u001b[43mdata\u001b[49m\u001b[38;5;241m.\u001b[39mkeys())\n",
      "\u001b[0;31mNameError\u001b[0m: name 'data' is not defined"
     ]
    }
   ],
   "source": [
    "len(data.keys())"
   ]
  },
  {
   "cell_type": "code",
   "execution_count": 4,
   "id": "90d2a445",
   "metadata": {},
   "outputs": [
    {
     "name": "stdout",
     "output_type": "stream",
     "text": [
      "('stepnav', 'gpt-4', 'gpt-3.5-turbo') {'easy_success_rate': 0.8214230828338713, 'hard_success_rate': 0.4437167417110111, 'easy_reasoning_acc': 0.7473490087597972, 'hard_reasoning_acc': 0.3454768726975031}\n",
      "('stepnav', 'gpt-3.5-turbo', 'gpt-4') {'easy_success_rate': 0.4533579222375903, 'hard_success_rate': 0.1424478100695866, 'easy_reasoning_acc': 0.3050560934378362, 'hard_reasoning_acc': 0.0466639377814162}\n",
      "('stepnav', 'gpt-3.5-turbo', 'rwkv') {'easy_success_rate': 0.4893111638954869, 'hard_success_rate': 0.1507936507936507, 'easy_reasoning_acc': 0.339667458432304, 'hard_reasoning_acc': 0.0555555555555555}\n",
      "('stepnav', 'rwkv', 'gpt-3.5-turbo') {'easy_success_rate': 0.0189739985945186, 'hard_success_rate': 0.0177215189873417, 'easy_reasoning_acc': 0.0007027406886858, 'hard_reasoning_acc': 0.0}\n",
      "('stepnav', 'rwkv_anno', 'gpt-3.5-turbo') {'easy_success_rate': 0.024557956777996, 'hard_success_rate': 0.0104895104895104, 'easy_reasoning_acc': 0.0, 'hard_reasoning_acc': 0.0}\n",
      "('stepnav', 'gpt-3.5-turbo', 'rwkv_anno') {'easy_success_rate': 0.472943722943723, 'hard_success_rate': 0.1407407407407407, 'easy_reasoning_acc': 0.3181818181818182, 'hard_reasoning_acc': 0.0407407407407407}\n",
      "('stepnav', 'rwkv', 'gpt-4') {'easy_success_rate': 0.0167364016736401, 'hard_success_rate': 0.0138888888888888, 'easy_reasoning_acc': 0.0005977286312014, 'hard_reasoning_acc': 0.0}\n",
      "('stepnav', 'gpt-4', 'rwkv') {'easy_success_rate': 0.8182432432432432, 'hard_success_rate': 0.5031315240083507, 'easy_reasoning_acc': 0.7283783783783784, 'hard_reasoning_acc': 0.4112734864300626}\n",
      "('stepnav', 'rwkv_anno', 'gpt-4') {'easy_success_rate': 0.0240663900414937, 'hard_success_rate': 0.0106382978723404, 'easy_reasoning_acc': 0.0, 'hard_reasoning_acc': 0.0}\n",
      "('stepnav', 'gpt-4', 'rwkv_anno') {'easy_success_rate': 0.8301015697137581, 'hard_success_rate': 0.453257790368272, 'easy_reasoning_acc': 0.7386888273314867, 'hard_reasoning_acc': 0.3541076487252125}\n",
      "('stepnav', 'gpt-3.5-turbo', 'llama_anno') {'easy_success_rate': 0.4860037323380432, 'hard_success_rate': 0.1422475106685633, 'easy_reasoning_acc': 0.3633697680618502, 'hard_reasoning_acc': 0.0633001422475106}\n",
      "('stepnav', 'llama_anno', 'gpt-3.5-turbo') {'easy_success_rate': 0.3007177033492823, 'hard_success_rate': 0.0805056553559547, 'easy_reasoning_acc': 0.19688995215311, 'hard_reasoning_acc': 0.0146373918829008}\n",
      "('stepnav', 'gpt-4', 'llama_anno') {'easy_success_rate': 0.8375695957395304, 'hard_success_rate': 0.5118453865336658, 'easy_reasoning_acc': 0.7678528201404019, 'hard_reasoning_acc': 0.4226932668329177}\n",
      "('stepnav', 'llama_anno', 'gpt-4') {'easy_success_rate': 0.2900546448087431, 'hard_success_rate': 0.0751614797416324, 'easy_reasoning_acc': 0.1892896174863388, 'hard_reasoning_acc': 0.012918379330593}\n",
      "('stepnav', 'llama_anno', 'rwkv') {'easy_success_rate': 0.3133018230925051, 'hard_success_rate': 0.0698324022346368, 'easy_reasoning_acc': 0.2039162727886563, 'hard_reasoning_acc': 0.0181564245810055}\n",
      "('stepnav', 'rwkv', 'llama_anno') {'easy_success_rate': 0.0194369973190348, 'hard_success_rate': 0.0198863636363636, 'easy_reasoning_acc': 0.0, 'hard_reasoning_acc': 0.0}\n",
      "('stepnav', 'llama_anno', 'rwkv_anno') {'easy_success_rate': 0.3270609318996415, 'hard_success_rate': 0.0725190839694656, 'easy_reasoning_acc': 0.2141577060931899, 'hard_reasoning_acc': 0.0114503816793893}\n",
      "('stepnav', 'rwkv_anno', 'llama_anno') {'easy_success_rate': 0.0268096514745308, 'hard_success_rate': 0.0269230769230769, 'easy_reasoning_acc': 0.000893655049151, 'hard_reasoning_acc': 0.0}\n",
      "('stepnav', 'llama', 'gpt-3.5-turbo') {'easy_success_rate': 0.2594142259414226, 'hard_success_rate': 0.0627943485086342, 'easy_reasoning_acc': 0.1531380753138075, 'hard_reasoning_acc': 0.0141287284144427}\n",
      "('stepnav', 'gpt-3.5-turbo', 'llama') {'easy_success_rate': 0.4958828911253432, 'hard_success_rate': 0.1414309484193011, 'easy_reasoning_acc': 0.3870082342177493, 'hard_reasoning_acc': 0.0765391014975041}\n",
      "('stepnav', 'gpt-4', 'llama') {'easy_success_rate': 0.8704595185995624, 'hard_success_rate': 0.5702746365105007, 'easy_reasoning_acc': 0.8157549234135667, 'hard_reasoning_acc': 0.5250403877221325}\n",
      "('stepnav', 'llama', 'gpt-4') {'easy_success_rate': 0.2558976409436225, 'hard_success_rate': 0.0625954198473282, 'easy_reasoning_acc': 0.151139544182327, 'hard_reasoning_acc': 0.0137404580152671}\n",
      "('stepnav', 'llama', 'llama_anno') {'easy_success_rate': 0.2781520692974013, 'hard_success_rate': 0.0637522768670309, 'easy_reasoning_acc': 0.1713185755534167, 'hard_reasoning_acc': 0.0145719489981785}\n",
      "('stepnav', 'llama_anno', 'llama') {'easy_success_rate': 0.3373435996150145, 'hard_success_rate': 0.087431693989071, 'easy_reasoning_acc': 0.2410972088546679, 'hard_reasoning_acc': 0.0273224043715847}\n",
      "('stepnav', 'llama', 'rwkv') {'easy_success_rate': 0.2694394213381555, 'hard_success_rate': 0.0697674418604651, 'easy_reasoning_acc': 0.1464737793851717, 'hard_reasoning_acc': 0.0155038759689922}\n",
      "('stepnav', 'rwkv', 'llama') {'easy_success_rate': 0.0307414104882459, 'hard_success_rate': 0.0232558139534883, 'easy_reasoning_acc': 0.0018083182640144, 'hard_reasoning_acc': 0.0}\n",
      "('stepnav', 'llama', 'rwkv_anno') {'easy_success_rate': 0.2956989247311828, 'hard_success_rate': 0.075, 'easy_reasoning_acc': 0.1989247311827957, 'hard_reasoning_acc': 0.0249999999999999}\n",
      "('stepnav', 'rwkv_anno', 'llama') {'easy_success_rate': 0.0295698924731182, 'hard_success_rate': 0.0, 'easy_reasoning_acc': 0.0, 'hard_reasoning_acc': 0.0}\n",
      "('stepnav', 'rwkv_anno', 'rwkv') {'easy_success_rate': 0.0272536687631027, 'hard_success_rate': 0.0202020202020202, 'easy_reasoning_acc': 0.0, 'hard_reasoning_acc': 0.0}\n",
      "('stepnav', 'rwkv', 'rwkv_anno') {'easy_success_rate': 0.0167714884696016, 'hard_success_rate': 0.005050505050505, 'easy_reasoning_acc': 0.0, 'hard_reasoning_acc': 0.0}\n"
     ]
    }
   ],
   "source": [
    "for k,v in data.items():\n",
    "    if k[0]=='stepnav':\n",
    "        print(k,v)"
   ]
  },
  {
   "cell_type": "code",
   "execution_count": 5,
   "id": "385f853f",
   "metadata": {},
   "outputs": [],
   "source": [
    "def generate_latex_table(data, task, measure):\n",
    "    models = ['RWKV', 'LLaMa2', 'Claude-1', 'Claude-2', 'GPT-3.5', 'GPT-4']\n",
    "    models_nickname = ['rwkv', 'llama2', 'claude-1-instant', 'claude-2', 'gpt-3.5-turbo', 'gpt-4']\n",
    "    latex_table = \"\\\\begin{tabular}{lccccccc}\\n\\\\toprule\\n\"\n",
    "    latex_table += \"Method & \" + \" & \".join(models) + \" & $\\\\overline{{\\\\rm HARD}}|$ \\\\\\\\\\n\\\\midrule\\n\"\n",
    "\n",
    "    for i, model_a in enumerate(models_nickname):\n",
    "        row_data = []\n",
    "        for j, model_b in enumerate(models_nickname):\n",
    "            if i == j:\n",
    "                row_data.append('*')\n",
    "            elif (task, model_a, model_b) in data:\n",
    "                value_a = data[(task, model_a, model_b)]['easy_'+measure] if i > j else data[(task, model_a, model_b)]['hard_'+measure]\n",
    "                value_b = data[(task, model_b, model_a)]['easy_'+measure] if i > j else data[(task, model_b, model_a)]['hard_'+measure]\n",
    "                row_data.append(\"{:.2f} | {:.2f}\".format(value_a, value_b))\n",
    "            else:\n",
    "                row_data.append('-- | --')\n",
    "        latex_table += models[i] + \" & \" + \" & \".join(row_data) + \" & * \\\\\\\\\\n\"\n",
    "    latex_table += \"|$\\\\underline{{\\\\rm EASY}}$ & * & * & * & * & * & * & *\\\\\\\\\\n\"\n",
    "    latex_table += \"\\\\bottomrule\\n\\\\end{tabular}\\n\"\n",
    "    return latex_table"
   ]
  },
  {
   "cell_type": "code",
   "execution_count": 6,
   "id": "3d70f12b",
   "metadata": {},
   "outputs": [
    {
     "name": "stdout",
     "output_type": "stream",
     "text": [
      "\\begin{tabular}{lccccccc}\n",
      "\\toprule\n",
      "Method & RWKV & RWKV-S & LLaMa2 & LLaMa2-S & GPT-3.5 & GPT-4 & $\\overline{{\\rm HARD}}|$ \\\\\n",
      "\\midrule\n",
      "RWKV & * & 0.01 | 0.02 & 0.02 | 0.07 & 0.02 | 0.07 & 0.02 | 0.15 & 0.01 | 0.50 & * \\\\\n",
      "RWKV-S & 0.03 | 0.02 & * & 0.00 | 0.07 & 0.03 | 0.07 & 0.01 | 0.14 & 0.01 | 0.45 & * \\\\\n",
      "LLaMa2 & 0.27 | 0.03 & 0.30 | 0.03 & * & 0.06 | 0.09 & 0.06 | 0.14 & 0.06 | 0.57 & * \\\\\n",
      "LLaMa2-S & 0.31 | 0.02 & 0.33 | 0.03 & 0.34 | 0.28 & * & 0.08 | 0.14 & 0.08 | 0.51 & * \\\\\n",
      "GPT-3.5 & 0.49 | 0.02 & 0.47 | 0.02 & 0.50 | 0.26 & 0.49 | 0.30 & * & 0.14 | 0.44 & * \\\\\n",
      "GPT-4 & 0.82 | 0.02 & 0.83 | 0.02 & 0.87 | 0.26 & 0.84 | 0.29 & 0.82 | 0.45 & * & * \\\\\n",
      "|$\\underline{{\\rm EASY}}$ & * & * & * & * & * & * & *\\\\\n",
      "\\bottomrule\n",
      "\\end{tabular}\n",
      "\n"
     ]
    }
   ],
   "source": [
    "latex_table = generate_latex_table(data, 'stepnav', 'success_rate')\n",
    "print(latex_table)"
   ]
  },
  {
   "cell_type": "code",
   "execution_count": 7,
   "id": "466f5510",
   "metadata": {},
   "outputs": [
    {
     "name": "stdout",
     "output_type": "stream",
     "text": [
      "\\begin{tabular}{lccccccc}\n",
      "\\toprule\n",
      "Method & RWKV & RWKV-S & LLaMa2 & LLaMa2-S & GPT-3.5 & GPT-4 & $\\overline{{\\rm HARD}}|$ \\\\\n",
      "\\midrule\n",
      "RWKV & * & 0.00 | 0.00 & 0.00 | 0.00 & 0.00 | 0.01 & 0.00 | 0.03 & 0.00 | 0.54 & * \\\\\n",
      "RWKV-S & 0.00 | 0.00 & * & 0.00 | 0.00 & 0.00 | 0.00 & 0.00 | 0.05 & 0.00 | 0.49 & * \\\\\n",
      "LLaMa2 & 0.02 | 0.00 & 0.04 | 0.00 & * & 0.00 | 0.03 & 0.00 | 0.05 & 0.00 | 0.47 & * \\\\\n",
      "LLaMa2-S & 0.06 | 0.00 & 0.08 | 0.00 & 0.07 | 0.04 & * & 0.01 | 0.06 & 0.01 | 0.51 & * \\\\\n",
      "GPT-3.5 & 0.15 | 0.00 & 0.20 | 0.00 & 0.16 | 0.03 & 0.19 | 0.06 & * & 0.03 | 0.48 & * \\\\\n",
      "GPT-4 & 0.57 | 0.00 & 0.55 | 0.00 & 0.56 | 0.03 & 0.59 | 0.06 & 0.58 | 0.15 & * & * \\\\\n",
      "|$\\underline{{\\rm EASY}}$ & * & * & * & * & * & * & *\\\\\n",
      "\\bottomrule\n",
      "\\end{tabular}\n",
      "\n"
     ]
    }
   ],
   "source": [
    "latex_table = generate_latex_table(data, 'pathgen', 'success_rate')\n",
    "print(latex_table)"
   ]
  },
  {
   "cell_type": "code",
   "execution_count": 8,
   "id": "5d411b0f",
   "metadata": {},
   "outputs": [
    {
     "name": "stdout",
     "output_type": "stream",
     "text": [
      "\\begin{tabular}{lccccccc}\n",
      "\\toprule\n",
      "Method & RWKV & RWKV-S & LLaMa2 & LLaMa2-S & GPT-3.5 & GPT-4 & $\\overline{{\\rm HARD}}|$ \\\\\n",
      "\\midrule\n",
      "RWKV & * & 0.00 | 0.00 & 0.00 | 0.02 & 0.00 | 0.02 & 0.00 | 0.06 & 0.00 | 0.41 & * \\\\\n",
      "RWKV-S & 0.00 | 0.00 & * & 0.00 | 0.02 & 0.00 | 0.01 & 0.00 | 0.04 & 0.00 | 0.35 & * \\\\\n",
      "LLaMa2 & 0.15 | 0.00 & 0.20 | 0.00 & * & 0.01 | 0.03 & 0.01 | 0.08 & 0.01 | 0.53 & * \\\\\n",
      "LLaMa2-S & 0.20 | 0.00 & 0.21 | 0.00 & 0.24 | 0.17 & * & 0.01 | 0.06 & 0.01 | 0.42 & * \\\\\n",
      "GPT-3.5 & 0.34 | 0.00 & 0.32 | 0.00 & 0.39 | 0.15 & 0.36 | 0.20 & * & 0.05 | 0.35 & * \\\\\n",
      "GPT-4 & 0.73 | 0.00 & 0.74 | 0.00 & 0.82 | 0.15 & 0.77 | 0.19 & 0.75 | 0.31 & * & * \\\\\n",
      "|$\\underline{{\\rm EASY}}$ & * & * & * & * & * & * & *\\\\\n",
      "\\bottomrule\n",
      "\\end{tabular}\n",
      "\n"
     ]
    }
   ],
   "source": [
    "latex_table = generate_latex_table(data, 'stepnav', 'reasoning_acc')\n",
    "print(latex_table)"
   ]
  },
  {
   "cell_type": "code",
   "execution_count": 9,
   "id": "74b53c73",
   "metadata": {},
   "outputs": [
    {
     "name": "stdout",
     "output_type": "stream",
     "text": [
      "\\begin{tabular}{lccccccc}\n",
      "\\toprule\n",
      "Method & RWKV & RWKV-S & LLaMa2 & LLaMa2-S & GPT-3.5 & GPT-4 & $\\overline{{\\rm HARD}}|$ \\\\\n",
      "\\midrule\n",
      "RWKV & * & 0.00 | 0.00 & 0.00 | 0.00 & 0.00 | 0.01 & 0.00 | 0.03 & 0.00 | 0.52 & * \\\\\n",
      "RWKV-S & 0.00 | 0.00 & * & 0.00 | 0.00 & 0.00 | 0.00 & 0.00 | 0.05 & 0.00 | 0.48 & * \\\\\n",
      "LLaMa2 & 0.02 | 0.00 & 0.04 | 0.00 & * & 0.00 | 0.03 & 0.00 | 0.04 & 0.00 | 0.45 & * \\\\\n",
      "LLaMa2-S & 0.05 | 0.00 & 0.07 | 0.00 & 0.07 | 0.04 & * & 0.01 | 0.05 & 0.01 | 0.48 & * \\\\\n",
      "GPT-3.5 & 0.15 | 0.00 & 0.19 | 0.00 & 0.16 | 0.03 & 0.19 | 0.06 & * & 0.02 | 0.46 & * \\\\\n",
      "GPT-4 & 0.55 | 0.00 & 0.54 | 0.00 & 0.55 | 0.02 & 0.58 | 0.06 & 0.56 | 0.14 & * & * \\\\\n",
      "|$\\underline{{\\rm EASY}}$ & * & * & * & * & * & * & *\\\\\n",
      "\\bottomrule\n",
      "\\end{tabular}\n",
      "\n"
     ]
    }
   ],
   "source": [
    "latex_table = generate_latex_table(data, 'pathgen', 'reasoning_acc')\n",
    "print(latex_table)"
   ]
  },
  {
   "cell_type": "code",
   "execution_count": null,
   "id": "30d5aa83",
   "metadata": {},
   "outputs": [],
   "source": []
  },
  {
   "cell_type": "code",
   "execution_count": null,
   "id": "cf703d75",
   "metadata": {},
   "outputs": [],
   "source": []
  }
 ],
 "metadata": {
  "kernelspec": {
   "display_name": "mango",
   "language": "python",
   "name": "mango"
  },
  "language_info": {
   "codemirror_mode": {
    "name": "ipython",
    "version": 3
   },
   "file_extension": ".py",
   "mimetype": "text/x-python",
   "name": "python",
   "nbconvert_exporter": "python",
   "pygments_lexer": "ipython3",
   "version": "3.9.17"
  }
 },
 "nbformat": 4,
 "nbformat_minor": 5
}

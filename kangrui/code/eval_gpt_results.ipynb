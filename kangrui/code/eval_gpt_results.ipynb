{
 "cells": [
  {
   "cell_type": "code",
   "execution_count": null,
   "id": "e23e562c",
   "metadata": {},
   "outputs": [],
   "source": [
    "import os.path as osp\n",
    "import os\n",
    "import pandas as pd\n",
    "from utils.utils import get_timetsamp_with_random\n",
    "from utils.map_utils import get_game_info_with_G_eval\n",
    "from utils.eval_gpt_utils import get_csv,eval_gpt_batch"
   ]
  },
  {
   "cell_type": "code",
   "execution_count": null,
   "id": "15c45a8b",
   "metadata": {},
   "outputs": [],
   "source": [
    "def eval_all(rst_dir,map_dir,save_path,model_name,task_name,eval_difficulty):\n",
    "    \n",
    "    eval_rst={}\n",
    "    for idx,game_name in enumerate(os.listdir(rst_dir)):\n",
    "#     for idx,game_name in enumerate(['planetfall','pentari','ludicorp','zork1','spellbrkr',\n",
    "#     'ballyhoo','murdac','zenon','zork2','zork3',\n",
    "#     '905','anchor','awaken','adventureland','afflicted',\n",
    "#     'balances','curses','cutthroat','deephome','detective',\n",
    "#     'dragon','enchanter','enter','gold','hhgg',\n",
    "#     'hollywood','huntdark','infidel','inhumane','jewel',\n",
    "#     'karn','library','loose','lostpig','lurking',\n",
    "#     'moonlit','murdac','night','omniquest','partyfoul']):\n",
    "        if game_name in ['outputs_diff','.gitattributes','.gitignore','.git']:\n",
    "            continue\n",
    "        print(f'handling {game_name}')\n",
    "                \n",
    "        G_eval,G,actions,locations,all2all,all_pairs,walkthrough=get_game_info_with_G_eval(map_dir,game_name)\n",
    "#         if task_name=='pathgen':\n",
    "#             rst=eval_rf_gpt_batch(game_name,rst_dir,G_eval,all2all,all_pairs,model_name=model_name,eval_difficulty=eval_difficulty)\n",
    "#         elif task_name=='stepnav':\n",
    "#             rst=eval_df_gpt_batch(game_name,rst_dir,G_eval,all2all,all_pairs,model_name=model_name,eval_difficulty=eval_difficulty)\n",
    "        rst=eval_gpt_batch(game_name,rst_dir,G_eval,all2all,all_pairs,task_type=task_name,model_name=model_name,eval_difficulty=eval_difficulty)\n",
    "        eval_rst[game_name]=rst\n",
    "        print('-----------------------')\n",
    "        \n",
    "    if not os.path.exists(save_path):\n",
    "        os.makedirs(save_path)\n",
    "        \n",
    "    timestamp=get_timetsamp_with_random()\n",
    "    target_name=osp.join(save_path,f'result_{eval_difficulty}_{timestamp}.csv')\n",
    "\n",
    "\n",
    "    get_csv(eval_rst,target_name)\n",
    "\n",
    "    df = pd.read_csv(target_name)\n",
    "    df = df.sort_values('name')\n",
    "    average = df.mean()\n",
    "    \n",
    "    # Convert first column to object type\n",
    "    df[df.columns[0]] = df[df.columns[0]].astype(object)\n",
    "\n",
    "    # Append the average row and set the value of the first column to 'average'\n",
    "    df.loc[len(df)] = ['average'] + list(average.values)\n",
    "\n",
    "    # Replace all NA/NaN in df with 'NA'\n",
    "    df.fillna('NA', inplace=True)\n",
    "    \n",
    "    \n",
    "#     print(average.values)\n",
    "    weighted_average=[]\n",
    "    \n",
    "    weighted_average.append(average.values[6]/average.values[8])\n",
    "    weighted_average.append(average.values[7]/average.values[8])\n",
    "    \n",
    "    weighted_average.append(average.values[12]/average.values[14])\n",
    "    weighted_average.append(average.values[9]/average.values[11])\n",
    "    \n",
    "    weighted_average.append(average.values[13]/average.values[14])\n",
    "    weighted_average.append(average.values[10]/average.values[11])\n",
    "    \n",
    "    for i in range(len(list(average.values))-len(weighted_average)):\n",
    "        weighted_average.append(0.0)\n",
    "\n",
    "\n",
    "    df.loc[len(df)] = ['weighted_average'] + weighted_average\n",
    "    \n",
    "    df.to_csv(f\"{osp.join(save_path,f'sorted_result_{eval_difficulty}_{timestamp}.csv')}\", index=False)\n",
    "    if osp.isfile(target_name):\n",
    "        os.remove(target_name)\n",
    "        print(f'The file \"{target_name}\" has been deleted.')\n",
    "    else:\n",
    "        print(f'The file \"{target_name}\" does not exist.')\n"
   ]
  },
  {
   "cell_type": "code",
   "execution_count": null,
   "id": "bf2a1327",
   "metadata": {},
   "outputs": [],
   "source": [
    "# notebook input\n",
    "rst_dir='/share/data/mei-work/kangrui/github/mango/kangrui/data/claude-results'\n",
    "map_dir='/share/data/mei-work/kangrui/github/mango/data/'\n",
    "save_dir='/share/data/mei-work/kangrui/github/mango/kangrui/eval_results/claude_overall_0912/'\n",
    "model_names=['claude-2','claude-instant-1']\n",
    "eval_difficulties=['strict','loose']\n",
    "task_names=[\"stepnav\",\"pathgen\"]"
   ]
  },
  {
   "cell_type": "code",
   "execution_count": null,
   "id": "41814904",
   "metadata": {},
   "outputs": [],
   "source": [
    "for model_name in model_names:\n",
    "    for task_name in task_names:\n",
    "        for eval_difficulty in eval_difficulties:\n",
    "            print(save_dir)\n",
    "            print(model_name)\n",
    "            print(task_name)\n",
    "            save_path=osp.join(save_dir,model_name,task_name)\n",
    "            eval_all(rst_dir,map_dir,save_path,model_name,task_name,eval_difficulty)"
   ]
  },
  {
   "cell_type": "code",
   "execution_count": null,
   "id": "cfb1f8b2",
   "metadata": {},
   "outputs": [],
   "source": [
    "# path=\"/share/data/mei-work/kangrui/github/mango/kangrui/results_overall_0626/gpt-3.5-turbo/pathgen/sorted_result_loose_2023-06-26-09-42-09_648.csv\""
   ]
  },
  {
   "cell_type": "code",
   "execution_count": null,
   "id": "e4045314",
   "metadata": {},
   "outputs": [],
   "source": [
    "# df = pd.read_csv(path)\n",
    "# average=df.loc[len(df)-1]\n",
    "\n",
    "# weighted_average=[]\n",
    "# for i in range(7,16,3):\n",
    "#     weighted_average.append(average.values[i]/average.values[i+2])\n",
    "#     weighted_average.append(average.values[i+1]/average.values[i+2])\n",
    "# for i in range(9):\n",
    "#     weighted_average.append(0.0)\n",
    "\n",
    "# df.loc[len(df)] = ['weighted_average'] + weighted_average\n",
    "# df.to_csv(path,index=False)"
   ]
  },
  {
   "cell_type": "code",
   "execution_count": null,
   "id": "11e2ab28",
   "metadata": {},
   "outputs": [],
   "source": []
  }
 ],
 "metadata": {
  "kernelspec": {
   "display_name": "mango",
   "language": "python",
   "name": "mango"
  },
  "language_info": {
   "codemirror_mode": {
    "name": "ipython",
    "version": 3
   },
   "file_extension": ".py",
   "mimetype": "text/x-python",
   "name": "python",
   "nbconvert_exporter": "python",
   "pygments_lexer": "ipython3",
   "version": "3.9.17"
  }
 },
 "nbformat": 4,
 "nbformat_minor": 5
}

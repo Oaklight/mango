{
 "cells": [
  {
   "cell_type": "code",
   "execution_count": 1,
   "id": "a47380ee",
   "metadata": {},
   "outputs": [],
   "source": [
    "import os\n",
    "import os.path as osp\n",
    "import networkx as nx\n",
    "import json\n",
    "import matplotlib.pyplot as plt\n",
    "import hashlib\n",
    "import shutil\n",
    "import subprocess\n",
    "from tqdm import tqdm\n",
    "\n",
    "from utils.new_map_utils import get_game_info\n",
    "from utils.clean_utils import compute_hash_for_path,compute_hash_for_pair\n",
    "from utils.utils import find_json,read_json"
   ]
  },
  {
   "cell_type": "code",
   "execution_count": 2,
   "id": "09bddff9",
   "metadata": {},
   "outputs": [],
   "source": [
    "# notebook input\n",
    "map_dir='/share/data/mei-work/kangrui/github/mango/data/'\n",
    "result_dir='/share/data/mei-work/kangrui/github/mango/kangrui/data/gpt-games-results-clean-new'"
   ]
  },
  {
   "cell_type": "code",
   "execution_count": 3,
   "id": "2cfb7577",
   "metadata": {},
   "outputs": [
    {
     "name": "stderr",
     "output_type": "stream",
     "text": [
      "100%|█████████████████████████████████████████████████████████████████████████████████████████████████████████| 41920/41920 [12:36<00:00, 55.42it/s]\n"
     ]
    }
   ],
   "source": [
    "game_names=set()\n",
    "for game_name in os.listdir(map_dir):\n",
    "    game_names.add(game_name)\n",
    "json_files=find_json(result_dir)\n",
    "\n",
    "for json_file in tqdm(json_files):\n",
    "    \n",
    "    try:\n",
    "        data=read_json(json_file)\n",
    "    except Exception as e:\n",
    "        print(json_file,e)\n",
    "        os.sys.exit()\n",
    "    \n",
    "#     if data[\"task\"]==\"pathgen\":\n",
    "#         continue\n",
    "        \n",
    "        \n",
    "    game_name=None\n",
    "    for name in json_file.split('/'):\n",
    "        if name in game_names:\n",
    "            game_name=name\n",
    "            break\n",
    "    if game_name==None:\n",
    "        continue\n",
    "    G,actions,locations,all2all,all_pairs,walkthrough=get_game_info(map_dir,game_name)\n",
    "      \n",
    "    if data[\"task\"]==\"pathgen\":\n",
    "        \n",
    "        hashcode=compute_hash_for_pair({\"src_node\":data[\"src_node\"],\"dst_node\":data[\"dst_node\"]})\n",
    "        try:\n",
    "            assert hashcode in set([pair[\"id\"] for pair in all_pairs])\n",
    "        except Exception as e:\n",
    "            print(game_name,json_file,e)\n",
    "            os.sys.exit()\n",
    "        data[\"task_id\"]=hashcode\n",
    "\n",
    "    \n",
    "    if data[\"task\"]==\"stepnav\":\n",
    "        hashcode=compute_hash_for_path(data[\"path_gt\"])\n",
    "        try:\n",
    "            assert hashcode in set([path[\"id\"] for path in all2all])\n",
    "        except Exception as e:\n",
    "            print(game_name,json_file,e)\n",
    "            os.sys.exit()\n",
    "        data[\"task_id\"]=hashcode\n",
    "\n",
    "    try:\n",
    "        with open(json_file, 'w') as f:\n",
    "            json.dump(data,f,indent=4)\n",
    "    except Exception as e:\n",
    "        print(e)"
   ]
  },
  {
   "cell_type": "code",
   "execution_count": null,
   "id": "1f351802",
   "metadata": {},
   "outputs": [],
   "source": []
  }
 ],
 "metadata": {
  "kernelspec": {
   "display_name": "Python 3 (ipykernel)",
   "language": "python",
   "name": "python3"
  },
  "language_info": {
   "codemirror_mode": {
    "name": "ipython",
    "version": 3
   },
   "file_extension": ".py",
   "mimetype": "text/x-python",
   "name": "python",
   "nbconvert_exporter": "python",
   "pygments_lexer": "ipython3",
   "version": "3.9.7"
  }
 },
 "nbformat": 4,
 "nbformat_minor": 5
}

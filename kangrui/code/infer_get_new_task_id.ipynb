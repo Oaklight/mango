{
 "cells": [
  {
   "cell_type": "code",
   "execution_count": 26,
   "id": "e23e562c",
   "metadata": {},
   "outputs": [],
   "source": [
    "import os.path as osp\n",
    "import os\n",
    "import pandas as pd\n",
    "from utils.utils import get_timetsamp_with_random,save_json\n",
    "from utils.map_utils import get_game_info_with_G_eval,get_game_info\n",
    "from utils.eval_gpt_utils import get_csv,eval_gpt_batch\n",
    "import json"
   ]
  },
  {
   "cell_type": "code",
   "execution_count": 27,
   "id": "bf2a1327",
   "metadata": {},
   "outputs": [],
   "source": [
    "# notebook input\n",
    "rst_dir='/share/data/mei-work/kangrui/github/mango/kangrui/data/inhouse_llms_results_pli'\n",
    "map_dir='/share/data/mei-work/kangrui/github/mango/data/'\n",
    "model_names=['gpt-4','gpt-3.5-turbo']\n",
    "eval_difficulties=['strict','loose']\n",
    "task_names=[\"stepnav\",\"pathgen\"]"
   ]
  },
  {
   "cell_type": "code",
   "execution_count": 28,
   "id": "eb27b01f",
   "metadata": {},
   "outputs": [],
   "source": [
    "task_id_set={}\n",
    "task_id_set[\"stepnav\"]={}\n",
    "task_id_set[\"pathgen\"]={}\n",
    "for idx,game_name in enumerate(os.listdir(map_dir)):\n",
    "    G,actions,locations,all2all,all_pairs,walkthrough=get_game_info(map_dir,game_name)\n",
    "    task_id_set[\"stepnav\"][game_name]=set([value['id'] for value in all2all])\n",
    "    task_id_set[\"pathgen\"][game_name]=set([value['id'] for value in all_pairs])"
   ]
  },
  {
   "cell_type": "code",
   "execution_count": 29,
   "id": "c03b96cc",
   "metadata": {},
   "outputs": [
    {
     "name": "stdout",
     "output_type": "stream",
     "text": [
      "21046\n"
     ]
    }
   ],
   "source": [
    "total=0\n",
    "for k,v in task_id_set[\"stepnav\"].items():\n",
    "    total+=len(v)\n",
    "print(total)"
   ]
  },
  {
   "cell_type": "code",
   "execution_count": 30,
   "id": "0612299a",
   "metadata": {},
   "outputs": [
    {
     "name": "stdout",
     "output_type": "stream",
     "text": [
      "14698\n"
     ]
    }
   ],
   "source": [
    "total=0\n",
    "for k,v in task_id_set[\"pathgen\"].items():\n",
    "    total+=len(v)\n",
    "print(total)"
   ]
  },
  {
   "cell_type": "code",
   "execution_count": 34,
   "id": "6901a464",
   "metadata": {},
   "outputs": [],
   "source": [
    "for idx,game_name in enumerate(os.listdir(rst_dir)):\n",
    "    file_dir=osp.join(rst_dir,game_name,'results')\n",
    "    for idx,dir_path in enumerate(os.listdir(file_dir)):\n",
    "        if dir_path.endswith(\"llama\"):\n",
    "            continue\n",
    "        if dir_path.startswith(\"step\"):\n",
    "            task_type=\"stepnav\"\n",
    "        else:\n",
    "            task_type=\"pathgen\"\n",
    "        final_dir_path=osp.join(file_dir,dir_path)\n",
    "        for idx,file_name in enumerate(os.listdir(final_dir_path)):\n",
    "            final_file_path=osp.join(final_dir_path,file_name)\n",
    "            try:\n",
    "                with open(final_file_path,'r') as f:\n",
    "                    result_json = json.load(f)\n",
    "                task_id=result_json['sample_id']\n",
    "            except:\n",
    "                continue\n",
    "            task_id_set[task_type][game_name].discard(task_id)"
   ]
  },
  {
   "cell_type": "code",
   "execution_count": 35,
   "id": "d9e02791",
   "metadata": {},
   "outputs": [],
   "source": [
    "for k,v in task_id_set[\"stepnav\"].items():\n",
    "    task_id_set[\"stepnav\"][k]=list(v)\n",
    "for k,v in task_id_set[\"pathgen\"].items():\n",
    "    task_id_set[\"pathgen\"][k]=list(v)"
   ]
  },
  {
   "cell_type": "code",
   "execution_count": 36,
   "id": "d8c69727",
   "metadata": {},
   "outputs": [
    {
     "name": "stdout",
     "output_type": "stream",
     "text": [
      "2423\n"
     ]
    }
   ],
   "source": [
    "total=0\n",
    "for k,v in task_id_set[\"stepnav\"].items():\n",
    "    total+=len(v)\n",
    "print(total)"
   ]
  },
  {
   "cell_type": "code",
   "execution_count": 37,
   "id": "d732aa2e",
   "metadata": {},
   "outputs": [
    {
     "name": "stdout",
     "output_type": "stream",
     "text": [
      "139\n"
     ]
    }
   ],
   "source": [
    "total=0\n",
    "for k,v in task_id_set[\"pathgen\"].items():\n",
    "    total+=len(v)\n",
    "print(total)"
   ]
  },
  {
   "cell_type": "code",
   "execution_count": 38,
   "id": "b448d3c3",
   "metadata": {},
   "outputs": [
    {
     "name": "stdout",
     "output_type": "stream",
     "text": [
      "inhumane 57\n",
      "adventureland 162\n",
      "hhgg 9\n",
      "advent 788\n",
      "spirit 21\n",
      "cutthroat 58\n",
      "zork3 37\n",
      "lurking 57\n",
      "ballyhoo 29\n",
      "sherlock 5\n",
      "zork1 19\n",
      "anchor 96\n",
      "temple 18\n",
      "trinity 66\n",
      "night 312\n",
      "zork2 508\n",
      "plundered 105\n",
      "spellbrkr 63\n",
      "curses 13\n"
     ]
    }
   ],
   "source": [
    "for k,v in task_id_set[\"stepnav\"].items():\n",
    "    if len(v)>0:\n",
    "        print(k,len(v))"
   ]
  },
  {
   "cell_type": "code",
   "execution_count": 39,
   "id": "b10bbbfe",
   "metadata": {},
   "outputs": [
    {
     "name": "stdout",
     "output_type": "stream",
     "text": [
      "advent 11\n",
      "cutthroat 44\n",
      "anchor 84\n"
     ]
    }
   ],
   "source": [
    "for k,v in task_id_set[\"pathgen\"].items():\n",
    "    if len(v)>0:\n",
    "        print(k,len(v))"
   ]
  },
  {
   "cell_type": "code",
   "execution_count": 40,
   "id": "cf13e77d",
   "metadata": {},
   "outputs": [
    {
     "data": {
      "text/plain": [
       "'./2023-07-09-05-39-49_320.json'"
      ]
     },
     "execution_count": 40,
     "metadata": {},
     "output_type": "execute_result"
    }
   ],
   "source": [
    "save_json('./',task_id_set)"
   ]
  },
  {
   "cell_type": "code",
   "execution_count": 41,
   "id": "11e2ab28",
   "metadata": {},
   "outputs": [],
   "source": [
    "import os\n",
    "\n",
    "def count_json_files(dir_path):\n",
    "    count = 0\n",
    "    for root, dirs, files in os.walk(dir_path):\n",
    "        for file in files:\n",
    "#             if file.startswith('results'):\n",
    "#                 continue\n",
    "            if file.endswith('.json'):\n",
    "                count += 1\n",
    "    return count"
   ]
  },
  {
   "cell_type": "code",
   "execution_count": 42,
   "id": "5ab84ac6",
   "metadata": {},
   "outputs": [
    {
     "data": {
      "text/plain": [
       "58481"
      ]
     },
     "execution_count": 42,
     "metadata": {},
     "output_type": "execute_result"
    }
   ],
   "source": [
    "count_json_files(\"/share/data/mei-work/kangrui/github/mango/kangrui/data/gpt-games-results-clean-new-new\")"
   ]
  },
  {
   "cell_type": "code",
   "execution_count": null,
   "id": "7b5276ca",
   "metadata": {},
   "outputs": [],
   "source": []
  }
 ],
 "metadata": {
  "kernelspec": {
   "display_name": "mango",
   "language": "python",
   "name": "mango"
  },
  "language_info": {
   "codemirror_mode": {
    "name": "ipython",
    "version": 3
   },
   "file_extension": ".py",
   "mimetype": "text/x-python",
   "name": "python",
   "nbconvert_exporter": "python",
   "pygments_lexer": "ipython3",
   "version": "3.9.7"
  }
 },
 "nbformat": 4,
 "nbformat_minor": 5
}

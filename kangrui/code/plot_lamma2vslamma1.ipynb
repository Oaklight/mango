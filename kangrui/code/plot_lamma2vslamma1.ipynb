{
 "cells": [
  {
   "cell_type": "code",
   "execution_count": 1,
   "id": "381a2910",
   "metadata": {},
   "outputs": [],
   "source": [
    "import os\n",
    "import matplotlib.pyplot as plt\n",
    "import numpy as np\n",
    "from colors import COLOR_MAP\n",
    "import pandas as pd"
   ]
  },
  {
   "cell_type": "code",
   "execution_count": 2,
   "id": "5ff8280d",
   "metadata": {},
   "outputs": [],
   "source": [
    "\n",
    "PLOT_DIR = \"../figure_lamma1vs2\"\n",
    "if not os.path.exists(PLOT_DIR):\n",
    "    os.makedirs(PLOT_DIR)\n",
    "\n",
    "# Define the global fontsize\n",
    "GLOBAL_FONTSIZE = 40"
   ]
  },
  {
   "cell_type": "code",
   "execution_count": 3,
   "id": "9fb623ea",
   "metadata": {},
   "outputs": [],
   "source": [
    "models=[\"LLaMa1\",\"LLaMa1-S\",\"LLaMa2\",\"LLaMa2-S\"]\n",
    "\n",
    "model_result_path={\n",
    "    \"Llama-1\":'/share/data/mei-work/kangrui/github/mango/kangrui/eval_results/results_llama_overall_0713/llama',\n",
    "    \"Llama-1-S\":'/share/data/mei-work/kangrui/github/mango/kangrui/eval_results/results_llama_overall_0713/llama_anno',\n",
    "    \"Llama-2\":'/share/data/mei-work/kangrui/github/mango/kangrui/eval_results/results_llama2_13b_base_overall_0816/llama',\n",
    "    \"Llama-2-S\":'/share/data/mei-work/kangrui/github/mango/kangrui/eval_results/results_llama2_13b_base_overall_0816/llama_anno',\n",
    "}"
   ]
  },
  {
   "cell_type": "code",
   "execution_count": 4,
   "id": "1e16d533",
   "metadata": {},
   "outputs": [],
   "source": [
    "def getresult(path):\n",
    "    data_all={}\n",
    "    for dirpath, _, filenames in os.walk(path):\n",
    "        for file in filenames:\n",
    "            if file.endswith('.csv') and 'loose' in file:\n",
    "                full_path = os.path.join(dirpath, file)\n",
    "                df=pd.read_csv(full_path)\n",
    "                last_row=df.iloc[-1]\n",
    "                \n",
    "                data={\n",
    "                    'easy_success_rate':last_row['easy_success_rate'],\n",
    "                    'hard_success_rate':last_row['hard_success_rate'],\n",
    "                    'easy_reasoning_acc':last_row['easy_reasoning_acc'],\n",
    "                    'hard_reasoning_acc':last_row['hard_reasoning_acc'],\n",
    "                }\n",
    "                if 'stepnav' in full_path:\n",
    "                    data_all['df']=data\n",
    "                else:\n",
    "                    data_all['rf']=data\n",
    "    return data_all"
   ]
  },
  {
   "cell_type": "code",
   "execution_count": 5,
   "id": "2b8d5964",
   "metadata": {},
   "outputs": [],
   "source": [
    "model_results_all={}\n",
    "for k,v in model_result_path.items():\n",
    "    model_results_all[k]=getresult(v)"
   ]
  },
  {
   "cell_type": "code",
   "execution_count": 6,
   "id": "ecf02f37",
   "metadata": {},
   "outputs": [],
   "source": [
    "model_names = [\n",
    "    \"Llama-1\",\n",
    "    \"Llama-1-S\",\n",
    "    \"Llama-2\",\n",
    "    \"Llama-2-S\",\n",
    "]"
   ]
  },
  {
   "cell_type": "code",
   "execution_count": 7,
   "id": "11b600f7",
   "metadata": {},
   "outputs": [],
   "source": [
    "def plot(name,model_results):\n",
    "    y_range=(0,1)\n",
    "    fig = plt.figure(figsize=(16, 16))\n",
    "    plt.tight_layout()\n",
    "\n",
    "    colors = [COLOR_MAP[model_name] for model_name in model_names]\n",
    "    bars=plt.bar(\n",
    "        model_names,\n",
    "        [model_results[model_name] for model_name in model_names],\n",
    "        color=colors,\n",
    "    )\n",
    "    for bar in bars:\n",
    "        yval = bar.get_height()\n",
    "        plt.text(bar.get_x() + bar.get_width()/2, yval + 0.01, \"{:.2f}\".format(yval), ha='center', va='bottom',fontsize=40)\n",
    "    # Set the y range\n",
    "    plt.ylim(y_range)\n",
    "    plt.yticks(fontsize=GLOBAL_FONTSIZE)\n",
    "    plt.xticks(fontsize=GLOBAL_FONTSIZE, rotation=45)\n",
    "    if name.endswith('reasoning'):\n",
    "        plt.ylabel('Reasoning Accuracy',fontsize=GLOBAL_FONTSIZE+5)\n",
    "    else:\n",
    "        plt.ylabel('Success Rate',fontsize=GLOBAL_FONTSIZE+5)\n",
    "    # horizontal line at y=0.8\n",
    "    plt.axhline(y=0.2, color=\"lightcoral\", linestyle=\"--\")\n",
    "    plt.axhline(y=0.4, color=\"lightcoral\", linestyle=\"--\")\n",
    "    plt.axhline(y=0.6, color=\"lightcoral\", linestyle=\"--\")\n",
    "    plt.axhline(y=0.8, color=\"lightcoral\", linestyle=\"--\")\n",
    "\n",
    "    # save\n",
    "    plt.savefig(f\"{PLOT_DIR}/{name}.pdf\", dpi=300, bbox_inches=\"tight\")\n",
    "    plt.close()"
   ]
  },
  {
   "cell_type": "code",
   "execution_count": 8,
   "id": "ec85b097",
   "metadata": {},
   "outputs": [],
   "source": [
    "for task_type in ['df','rf']:\n",
    "    for difficulty in ['easy','hard']:\n",
    "        for metrics in ['success_rate','reasoning_acc']:\n",
    "            name=task_type+'_'+difficulty+'_'+metrics+'lamma1vs2'\n",
    "            model_results={}\n",
    "            for k,v in model_results_all.items():\n",
    "                model_results[k]=model_results_all[k][task_type][difficulty+'_'+metrics]\n",
    "            plot(name,model_results)\n",
    "            "
   ]
  },
  {
   "cell_type": "code",
   "execution_count": null,
   "id": "7d9bccd8",
   "metadata": {},
   "outputs": [],
   "source": []
  }
 ],
 "metadata": {
  "kernelspec": {
   "display_name": "Python 3 (ipykernel)",
   "language": "python",
   "name": "python3"
  },
  "language_info": {
   "codemirror_mode": {
    "name": "ipython",
    "version": 3
   },
   "file_extension": ".py",
   "mimetype": "text/x-python",
   "name": "python",
   "nbconvert_exporter": "python",
   "pygments_lexer": "ipython3",
   "version": "3.8.16"
  }
 },
 "nbformat": 4,
 "nbformat_minor": 5
}

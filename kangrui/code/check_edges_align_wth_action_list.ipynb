{
 "cells": [
  {
   "cell_type": "code",
   "execution_count": 6,
   "id": "0787f227",
   "metadata": {},
   "outputs": [],
   "source": [
    "import os.path as osp\n",
    "import os\n",
    "import pandas as pd\n",
    "import networkx as nx\n",
    "from utils.utils import get_timetsamp_with_random\n",
    "from utils.map_utils import get_game_info,show_graph_info,get_game_info_with_G_eval\n",
    "import matplotlib.pyplot as plt\n",
    "import json"
   ]
  },
  {
   "cell_type": "code",
   "execution_count": 7,
   "id": "e5d174c0",
   "metadata": {},
   "outputs": [],
   "source": [
    "map_dir='/share/data/mei-work/kangrui/github/mango/data/'"
   ]
  },
  {
   "cell_type": "code",
   "execution_count": 8,
   "id": "8699db48",
   "metadata": {},
   "outputs": [],
   "source": [
    "for idx,game_name in enumerate(os.listdir(map_dir)):\n",
    "#     try:\n",
    "        G,actions,locations,all2all,all_pairs,walkthrough=get_game_info(map_dir,game_name)\n",
    "#         with open(osp.join(map_dir,game_name,f\"{game_name}.edges.json\"),'r') as f:\n",
    "#             edges= json.load(f)\n",
    "        edges=list(G.edges(data=True))\n",
    "        action_set1=set()\n",
    "        for edge in edges:\n",
    "            action_set1.add(edge[2]['action'])\n",
    "            \n",
    "        if not action_set1.issubset(set(actions)):\n",
    "            print(game_name)\n",
    "            print('.moves:',set(actions))\n",
    "            print('extract from edges:',action_set1)\n",
    "            print('--------------------------------------------')\n",
    "#     except:\n",
    "#         continue"
   ]
  },
  {
   "cell_type": "code",
   "execution_count": null,
   "id": "ac8cca4f",
   "metadata": {},
   "outputs": [],
   "source": []
  }
 ],
 "metadata": {
  "kernelspec": {
   "display_name": "mango",
   "language": "python",
   "name": "mango"
  },
  "language_info": {
   "codemirror_mode": {
    "name": "ipython",
    "version": 3
   },
   "file_extension": ".py",
   "mimetype": "text/x-python",
   "name": "python",
   "nbconvert_exporter": "python",
   "pygments_lexer": "ipython3",
   "version": "3.9.7"
  }
 },
 "nbformat": 4,
 "nbformat_minor": 5
}

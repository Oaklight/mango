{
 "cells": [
  {
   "cell_type": "code",
   "execution_count": 6,
   "id": "f5895f6b",
   "metadata": {},
   "outputs": [],
   "source": [
    "import os\n",
    "import os.path as osp\n",
    "import networkx as nx\n",
    "import json\n",
    "import matplotlib.pyplot as plt\n",
    "import hashlib\n",
    "import shutil\n",
    "import subprocess\n",
    "from tqdm import tqdm\n",
    "\n",
    "from utils.map_utils import get_game_info\n",
    "from utils.eval_utils import *\n",
    "from utils.clean_utils import *\n",
    "from utils.utils import find_json,read_json,replace_str_in_dict"
   ]
  },
  {
   "cell_type": "code",
   "execution_count": 7,
   "id": "b0e26c4b",
   "metadata": {},
   "outputs": [],
   "source": [
    "# notebook input\n",
    "map_dir='/share/data/mei-work/kangrui/github/mango/data-intermediate/'\n",
    "result_dir='/share/data/mei-work/kangrui/github/mango/kangrui/data/gpt-games-results-clean'\n",
    "save_path='/share/data/mei-work/kangrui/github/mango/kangrui/data/gpt-games-results-clean-new'"
   ]
  },
  {
   "cell_type": "code",
   "execution_count": 8,
   "id": "32ebb8cf",
   "metadata": {},
   "outputs": [],
   "source": [
    "if not osp.exists(save_path):\n",
    "    path1 = result_dir\n",
    "    path3 = save_path\n",
    "    # Merge directories\n",
    "    merge_dirs(path1, path3)"
   ]
  },
  {
   "cell_type": "code",
   "execution_count": 10,
   "id": "d00b2272",
   "metadata": {},
   "outputs": [
    {
     "name": "stderr",
     "output_type": "stream",
     "text": [
      "100%|██████████████████████████████████████████████████████████████████████████████████████████████████████████████████████████████████| 42728/42728 [11:54<00:00, 59.83it/s]\n"
     ]
    }
   ],
   "source": [
    "game_names=set()\n",
    "for game_name in os.listdir(map_dir):\n",
    "    game_names.add(game_name)\n",
    "json_files=find_json(save_path)\n",
    "for json_file in tqdm(json_files):\n",
    "    game_name=None\n",
    "    try:\n",
    "        data=read_json(json_file)\n",
    "    except Exception as e:\n",
    "        print(json_file,e)\n",
    "        os.sys.exit()\n",
    "        \n",
    "    for name in json_file.split('/'):\n",
    "        if name in game_names:\n",
    "            game_name=name\n",
    "            break\n",
    "    if game_name==None:\n",
    "        continue\n",
    "    G,all2all,all_pairs,anno2code,code2anno=get_game_info(map_dir,game_name)\n",
    "    \n",
    "    new_data=replace_str_in_dict(data, code2anno)\n",
    "    \n",
    "    with open(json_file, 'w') as f:\n",
    "        json.dump(new_data,f,indent=4)"
   ]
  }
 ],
 "metadata": {
  "kernelspec": {
   "display_name": "Python 3 (ipykernel)",
   "language": "python",
   "name": "python3"
  },
  "language_info": {
   "codemirror_mode": {
    "name": "ipython",
    "version": 3
   },
   "file_extension": ".py",
   "mimetype": "text/x-python",
   "name": "python",
   "nbconvert_exporter": "python",
   "pygments_lexer": "ipython3",
   "version": "3.9.7"
  }
 },
 "nbformat": 4,
 "nbformat_minor": 5
}

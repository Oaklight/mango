{
 "cells": [
  {
   "cell_type": "code",
   "execution_count": 1,
   "id": "994f4ed5",
   "metadata": {},
   "outputs": [],
   "source": [
    "import os.path as osp\n",
    "import os\n",
    "import pandas as pd\n",
    "from utils.utils import get_timetsamp_with_random\n",
    "from utils.map_utils import get_game_info_with_G_eval\n",
    "from utils.eval_gpt_utils import get_csv,eval_game\n"
   ]
  },
  {
   "cell_type": "code",
   "execution_count": 2,
   "id": "3e144a70",
   "metadata": {},
   "outputs": [],
   "source": [
    "result_dir='/share/data/mei-work/kangrui/github/mango/kangrui/data/gpt-games-results-clean-new-new'\n",
    "map_dir='/share/data/mei-work/kangrui/github/mango/data/'\n",
    "game_name='wishbringer'"
   ]
  },
  {
   "cell_type": "code",
   "execution_count": 4,
   "id": "376e62fb",
   "metadata": {},
   "outputs": [],
   "source": [
    "def get_wrong_qa(game_name,result_dir,G,all2all,all_pairs,task_type='pathgen',model_name='gpt-4',eval_difficulty='loose',eval_set=None):\n",
    "    src_dir=osp.join(result_dir,game_name,'results',f\"{task_type}-{model_name}\")\n",
    "    file_list=[]\n",
    "    for file in os.listdir(src_dir):\n",
    "        file_list.append(osp.join(src_dir,file))\n",
    "    \n",
    "    \n",
    "    easy_cnt=0\n",
    "    harsh_cnt=0\n",
    "    total=0\n",
    "    \n",
    "    hard_total=0\n",
    "    hard_easy=0\n",
    "    hard_harsh=0\n",
    "    \n",
    "    norm_total=0\n",
    "    norm_easy=0\n",
    "    norm_harsh=0\n",
    "\n",
    "    format_fail=0\n",
    "    total_file=0\n",
    "    \n",
    "    hard_wrong=[]\n",
    "    easy_wrong=[]\n",
    "    for file in file_list:  \n",
    "        \n",
    "        if eval_set is not None:\n",
    "            easy,harsh,hard=eval_game(file,G,all2all,all_pairs,eval_difficulty,task_type,eval_set)\n",
    "        else:\n",
    "            easy,harsh,hard=eval_game(file,G,all2all,all_pairs,eval_difficulty,task_type)\n",
    "\n",
    "\n",
    "\n",
    "        if easy!=-1:\n",
    "            total_file+=1\n",
    "        if easy==-2:\n",
    "            format_fail+=1\n",
    "\n",
    "\n",
    "        if easy>=0:\n",
    "            easy_cnt+=easy\n",
    "            harsh_cnt+=harsh\n",
    "            total+=1\n",
    "            if hard:\n",
    "                hard_total+=1\n",
    "                hard_easy+=easy\n",
    "                hard_harsh+=harsh\n",
    "            else:\n",
    "                norm_total+=1\n",
    "                norm_easy+=easy\n",
    "                norm_harsh+=harsh\n",
    "        if easy==0:\n",
    "            if hard:\n",
    "                hard_wrong.append(file)\n",
    "            else:\n",
    "                easy_wrong.append(file)\n",
    "                \n",
    "   \n",
    "    return {\n",
    "    'success_cnt': easy_cnt,\n",
    "    'reasoning_cnt': harsh_cnt,\n",
    "    'total': total,\n",
    "    'hard_success_cnt': hard_easy,\n",
    "    'hard_reasoning_cnt': hard_harsh,\n",
    "    'hard_total': hard_total,\n",
    "    'easy_success_cnt': norm_easy,\n",
    "    'easy_reasoning_cnt': norm_harsh,\n",
    "    'easy_total': norm_total,\n",
    "    'total_evaluted': total_file,\n",
    "    'total_format_failed':format_fail,\n",
    "},easy_wrong,hard_wrong\n",
    "\n",
    "    "
   ]
  },
  {
   "cell_type": "code",
   "execution_count": 5,
   "id": "e53e2d32",
   "metadata": {},
   "outputs": [],
   "source": [
    "import random\n",
    "random.seed(2023)"
   ]
  },
  {
   "cell_type": "code",
   "execution_count": 8,
   "id": "7790def4",
   "metadata": {},
   "outputs": [
    {
     "name": "stdout",
     "output_type": "stream",
     "text": [
      "/share/data/mei-work/kangrui/github/mango/kangrui/data/gpt-games-results-clean-new-new/wishbringer/results/pathgen-gpt-4/results_2023-06-01-02-15-02_880.json pair_min_cutoffs 66 > 45 exceeded, skip eval\n",
      "/share/data/mei-work/kangrui/github/mango/kangrui/data/gpt-games-results-clean-new-new/wishbringer/results/pathgen-gpt-4/results_2023-06-01-02-35-32_247.json pair_min_cutoffs 67 > 45 exceeded, skip eval\n",
      "/share/data/mei-work/kangrui/github/mango/kangrui/data/gpt-games-results-clean-new-new/wishbringer/results/pathgen-gpt-4/2023-06-28-23-47-56_678.json pair_min_cutoffs 65 > 45 exceeded, skip eval\n",
      "/share/data/mei-work/kangrui/github/mango/kangrui/data/gpt-games-results-clean-new-new/wishbringer/results/pathgen-gpt-4/2023-06-28-23-50-28_273.json pair_min_cutoffs 65 > 45 exceeded, skip eval\n",
      "/share/data/mei-work/kangrui/github/mango/kangrui/data/gpt-games-results-clean-new-new/wishbringer/results/pathgen-gpt-4/2023-06-28-23-59-51_502.json pair_min_cutoffs 47 > 45 exceeded, skip eval\n",
      "/share/data/mei-work/kangrui/github/mango/kangrui/data/gpt-games-results-clean-new-new/wishbringer/results/pathgen-gpt-4/results_2023-06-01-02-27-13_604.json pair_min_cutoffs 66 > 45 exceeded, skip eval\n",
      "/share/data/mei-work/kangrui/github/mango/kangrui/data/gpt-games-results-clean-new-new/wishbringer/results/pathgen-gpt-4/results_2023-06-01-02-32-44_519.json pair_min_cutoffs 67 > 45 exceeded, skip eval\n",
      "/share/data/mei-work/kangrui/github/mango/kangrui/data/gpt-games-results-clean-new-new/wishbringer/results/pathgen-gpt-4/results_2023-06-01-02-20-57_364.json pair_min_cutoffs 48 > 45 exceeded, skip eval\n",
      "/share/data/mei-work/kangrui/github/mango/kangrui/data/gpt-games-results-clean-new-new/wishbringer/results/pathgen-gpt-4/results_2023-06-01-02-31-05_604.json pair_min_cutoffs 67 > 45 exceeded, skip eval\n",
      "/share/data/mei-work/kangrui/github/mango/kangrui/data/gpt-games-results-clean-new-new/wishbringer/results/pathgen-gpt-4/2023-06-28-23-49-48_507.json pair_min_cutoffs 65 > 45 exceeded, skip eval\n",
      "/share/data/mei-work/kangrui/github/mango/kangrui/data/gpt-games-results-clean-new-new/wishbringer/results/pathgen-gpt-4/2023-06-29-00-02-43_967.json pair_min_cutoffs 57 > 45 exceeded, skip eval\n",
      "/share/data/mei-work/kangrui/github/mango/kangrui/data/gpt-games-results-clean-new-new/wishbringer/results/pathgen-gpt-4/results_2023-06-01-02-31-53_784.json pair_min_cutoffs 66 > 45 exceeded, skip eval\n",
      "/share/data/mei-work/kangrui/github/mango/kangrui/data/gpt-games-results-clean-new-new/wishbringer/results/pathgen-gpt-4/results_2023-06-01-02-30-52_941.json pair_min_cutoffs 66 > 45 exceeded, skip eval\n",
      "/share/data/mei-work/kangrui/github/mango/kangrui/data/gpt-games-results-clean-new-new/wishbringer/results/pathgen-gpt-4/2023-06-28-23-41-02_775.json pair_min_cutoffs 65 > 45 exceeded, skip eval\n",
      "/share/data/mei-work/kangrui/github/mango/kangrui/data/gpt-games-results-clean-new-new/wishbringer/results/pathgen-gpt-4/2023-06-28-23-43-41_413.json pair_min_cutoffs 65 > 45 exceeded, skip eval\n",
      "/share/data/mei-work/kangrui/github/mango/kangrui/data/gpt-games-results-clean-new-new/wishbringer/results/pathgen-gpt-4/results_2023-06-01-02-31-52_326.json pair_min_cutoffs 67 > 45 exceeded, skip eval\n",
      "/share/data/mei-work/kangrui/github/mango/kangrui/data/gpt-games-results-clean-new-new/wishbringer/results/pathgen-gpt-4/2023-06-28-23-57-41_937.json pair_min_cutoffs 65 > 45 exceeded, skip eval\n",
      "/share/data/mei-work/kangrui/github/mango/kangrui/data/gpt-games-results-clean-new-new/wishbringer/results/pathgen-gpt-4/2023-06-28-23-44-18_646.json pair_min_cutoffs 65 > 45 exceeded, skip eval\n",
      "/share/data/mei-work/kangrui/github/mango/kangrui/data/gpt-games-results-clean-new-new/wishbringer/results/pathgen-gpt-4/results_2023-06-01-02-36-26_428.json pair_min_cutoffs 67 > 45 exceeded, skip eval\n",
      "/share/data/mei-work/kangrui/github/mango/kangrui/data/gpt-games-results-clean-new-new/wishbringer/results/pathgen-gpt-4/results_2023-06-01-02-35-13_453.json pair_min_cutoffs 67 > 45 exceeded, skip eval\n",
      "/share/data/mei-work/kangrui/github/mango/kangrui/data/gpt-games-results-clean-new-new/wishbringer/results/pathgen-gpt-4/results_2023-06-01-02-37-05_858.json pair_min_cutoffs 67 > 45 exceeded, skip eval\n",
      "/share/data/mei-work/kangrui/github/mango/kangrui/data/gpt-games-results-clean-new-new/wishbringer/results/pathgen-gpt-4/results_2023-06-01-02-19-11_503.json pair_min_cutoffs 66 > 45 exceeded, skip eval\n",
      "/share/data/mei-work/kangrui/github/mango/kangrui/data/gpt-games-results-clean-new-new/wishbringer/results/pathgen-gpt-4/2023-06-29-00-03-28_200.json pair_min_cutoffs 65 > 45 exceeded, skip eval\n",
      "/share/data/mei-work/kangrui/github/mango/kangrui/data/gpt-games-results-clean-new-new/wishbringer/results/pathgen-gpt-4/2023-06-28-23-50-56_642.json pair_min_cutoffs 65 > 45 exceeded, skip eval\n",
      "/share/data/mei-work/kangrui/github/mango/kangrui/data/gpt-games-results-clean-new-new/wishbringer/results/pathgen-gpt-4/2023-06-28-23-43-00_681.json pair_min_cutoffs 65 > 45 exceeded, skip eval\n",
      "/share/data/mei-work/kangrui/github/mango/kangrui/data/gpt-games-results-clean-new-new/wishbringer/results/pathgen-gpt-4/2023-06-28-23-47-32_693.json pair_min_cutoffs 65 > 45 exceeded, skip eval\n",
      "/share/data/mei-work/kangrui/github/mango/kangrui/data/gpt-games-results-clean-new-new/wishbringer/results/pathgen-gpt-4/2023-06-28-23-47-49_334.json pair_min_cutoffs 65 > 45 exceeded, skip eval\n",
      "/share/data/mei-work/kangrui/github/mango/kangrui/data/gpt-games-results-clean-new-new/wishbringer/results/pathgen-gpt-4/2023-06-28-23-58-45_188.json pair_min_cutoffs 65 > 45 exceeded, skip eval\n",
      "/share/data/mei-work/kangrui/github/mango/kangrui/data/gpt-games-results-clean-new-new/wishbringer/results/pathgen-gpt-4/2023-06-28-23-57-14_029.json pair_min_cutoffs 65 > 45 exceeded, skip eval\n",
      "/share/data/mei-work/kangrui/github/mango/kangrui/data/gpt-games-results-clean-new-new/wishbringer/results/pathgen-gpt-4/2023-06-28-23-46-40_590.json pair_min_cutoffs 65 > 45 exceeded, skip eval\n",
      "/share/data/mei-work/kangrui/github/mango/kangrui/data/gpt-games-results-clean-new-new/wishbringer/results/pathgen-gpt-4/2023-06-28-23-46-01_727.json pair_min_cutoffs 65 > 45 exceeded, skip eval\n",
      "/share/data/mei-work/kangrui/github/mango/kangrui/data/gpt-games-results-clean-new-new/wishbringer/results/pathgen-gpt-4/2023-06-28-23-44-57_798.json pair_min_cutoffs 65 > 45 exceeded, skip eval\n",
      "/share/data/mei-work/kangrui/github/mango/kangrui/data/gpt-games-results-clean-new-new/wishbringer/results/pathgen-gpt-4/2023-06-28-23-49-33_675.json pair_min_cutoffs 65 > 45 exceeded, skip eval\n",
      "/share/data/mei-work/kangrui/github/mango/kangrui/data/gpt-games-results-clean-new-new/wishbringer/results/pathgen-gpt-4/results_2023-06-01-02-37-12_368.json pair_min_cutoffs 67 > 45 exceeded, skip eval\n",
      "/share/data/mei-work/kangrui/github/mango/kangrui/data/gpt-games-results-clean-new-new/wishbringer/results/pathgen-gpt-4/results_2023-06-01-02-36-17_953.json pair_min_cutoffs 48 > 45 exceeded, skip eval\n",
      "/share/data/mei-work/kangrui/github/mango/kangrui/data/gpt-games-results-clean-new-new/wishbringer/results/pathgen-gpt-4/2023-06-29-00-05-56_430.json pair_min_cutoffs 65 > 45 exceeded, skip eval\n",
      "/share/data/mei-work/kangrui/github/mango/kangrui/data/gpt-games-results-clean-new-new/wishbringer/results/pathgen-gpt-4/results_2023-06-01-02-26-48_035.json pair_min_cutoffs 67 > 45 exceeded, skip eval\n",
      "/share/data/mei-work/kangrui/github/mango/kangrui/data/gpt-games-results-clean-new-new/wishbringer/results/pathgen-gpt-4/results_2023-06-01-02-19-20_102.json pair_min_cutoffs 67 > 45 exceeded, skip eval\n",
      "/share/data/mei-work/kangrui/github/mango/kangrui/data/gpt-games-results-clean-new-new/wishbringer/results/pathgen-gpt-4/results_2023-06-01-02-21-19_281.json pair_min_cutoffs 67 > 45 exceeded, skip eval\n",
      "/share/data/mei-work/kangrui/github/mango/kangrui/data/gpt-games-results-clean-new-new/wishbringer/results/pathgen-gpt-4/2023-06-28-23-47-17_500.json pair_min_cutoffs 65 > 45 exceeded, skip eval\n",
      "/share/data/mei-work/kangrui/github/mango/kangrui/data/gpt-games-results-clean-new-new/wishbringer/results/pathgen-gpt-4/2023-06-29-00-05-32_088.json pair_min_cutoffs 65 > 45 exceeded, skip eval\n",
      "/share/data/mei-work/kangrui/github/mango/kangrui/data/gpt-games-results-clean-new-new/wishbringer/results/pathgen-gpt-4/results_2023-06-01-02-36-47_243.json pair_min_cutoffs 48 > 45 exceeded, skip eval\n",
      "/share/data/mei-work/kangrui/github/mango/kangrui/data/gpt-games-results-clean-new-new/wishbringer/results/pathgen-gpt-4/2023-06-28-23-57-21_114.json pair_min_cutoffs 57 > 45 exceeded, skip eval\n",
      "/share/data/mei-work/kangrui/github/mango/kangrui/data/gpt-games-results-clean-new-new/wishbringer/results/pathgen-gpt-4/2023-06-28-23-44-35_347.json pair_min_cutoffs 65 > 45 exceeded, skip eval\n",
      "/share/data/mei-work/kangrui/github/mango/kangrui/data/gpt-games-results-clean-new-new/wishbringer/results/pathgen-gpt-4/2023-06-28-23-51-14_283.json pair_min_cutoffs 65 > 45 exceeded, skip eval\n",
      "/share/data/mei-work/kangrui/github/mango/kangrui/data/gpt-games-results-clean-new-new/wishbringer/results/pathgen-gpt-4/2023-06-28-23-41-28_596.json pair_min_cutoffs 65 > 45 exceeded, skip eval\n",
      "/share/data/mei-work/kangrui/github/mango/kangrui/data/gpt-games-results-clean-new-new/wishbringer/results/pathgen-gpt-4/2023-06-28-23-56-39_779.json pair_min_cutoffs 47 > 45 exceeded, skip eval\n",
      "/share/data/mei-work/kangrui/github/mango/kangrui/data/gpt-games-results-clean-new-new/wishbringer/results/pathgen-gpt-4/results_2023-06-01-02-17-14_178.json pair_min_cutoffs 67 > 45 exceeded, skip eval\n",
      "/share/data/mei-work/kangrui/github/mango/kangrui/data/gpt-games-results-clean-new-new/wishbringer/results/pathgen-gpt-4/2023-06-29-00-00-14_082.json pair_min_cutoffs 65 > 45 exceeded, skip eval\n",
      "/share/data/mei-work/kangrui/github/mango/kangrui/data/gpt-games-results-clean-new-new/wishbringer/results/pathgen-gpt-4/2023-06-28-23-41-14_360.json pair_min_cutoffs 65 > 45 exceeded, skip eval\n",
      "/share/data/mei-work/kangrui/github/mango/kangrui/data/gpt-games-results-clean-new-new/wishbringer/results/pathgen-gpt-4/results_2023-06-01-02-34-57_102.json pair_min_cutoffs 66 > 45 exceeded, skip eval\n",
      "/share/data/mei-work/kangrui/github/mango/kangrui/data/gpt-games-results-clean-new-new/wishbringer/results/pathgen-gpt-4/2023-06-28-23-50-43_187.json pair_min_cutoffs 65 > 45 exceeded, skip eval\n",
      "/share/data/mei-work/kangrui/github/mango/kangrui/data/gpt-games-results-clean-new-new/wishbringer/results/pathgen-gpt-4/results_2023-06-01-02-34-23_819.json pair_min_cutoffs 66 > 45 exceeded, skip eval\n",
      "/share/data/mei-work/kangrui/github/mango/kangrui/data/gpt-games-results-clean-new-new/wishbringer/results/pathgen-gpt-4/2023-06-29-00-02-08_912.json pair_min_cutoffs 64 > 45 exceeded, skip eval\n",
      "/share/data/mei-work/kangrui/github/mango/kangrui/data/gpt-games-results-clean-new-new/wishbringer/results/pathgen-gpt-4/2023-06-28-23-41-55_117.json pair_min_cutoffs 65 > 45 exceeded, skip eval\n",
      "/share/data/mei-work/kangrui/github/mango/kangrui/data/gpt-games-results-clean-new-new/wishbringer/results/pathgen-gpt-4/2023-06-28-23-41-25_749.json pair_min_cutoffs 65 > 45 exceeded, skip eval\n",
      "/share/data/mei-work/kangrui/github/mango/kangrui/data/gpt-games-results-clean-new-new/wishbringer/results/pathgen-gpt-4/results_2023-06-01-02-33-41_520.json pair_min_cutoffs 67 > 45 exceeded, skip eval\n",
      "/share/data/mei-work/kangrui/github/mango/kangrui/data/gpt-games-results-clean-new-new/wishbringer/results/pathgen-gpt-4/2023-06-28-23-47-40_959.json pair_min_cutoffs 65 > 45 exceeded, skip eval\n",
      "/share/data/mei-work/kangrui/github/mango/kangrui/data/gpt-games-results-clean-new-new/wishbringer/results/pathgen-gpt-4/2023-06-29-00-02-39_528.json pair_min_cutoffs 65 > 45 exceeded, skip eval\n",
      "/share/data/mei-work/kangrui/github/mango/kangrui/data/gpt-games-results-clean-new-new/wishbringer/results/pathgen-gpt-4/2023-06-28-23-58-01_636.json pair_min_cutoffs 65 > 45 exceeded, skip eval\n",
      "/share/data/mei-work/kangrui/github/mango/kangrui/data/gpt-games-results-clean-new-new/wishbringer/results/pathgen-gpt-4/2023-06-29-00-04-01_217.json pair_min_cutoffs 65 > 45 exceeded, skip eval\n",
      "/share/data/mei-work/kangrui/github/mango/kangrui/data/gpt-games-results-clean-new-new/wishbringer/results/pathgen-gpt-4/2023-06-28-23-42-34_413.json pair_min_cutoffs 65 > 45 exceeded, skip eval\n",
      "/share/data/mei-work/kangrui/github/mango/kangrui/data/gpt-games-results-clean-new-new/wishbringer/results/pathgen-gpt-4/2023-06-28-23-58-18_481.json pair_min_cutoffs 65 > 45 exceeded, skip eval\n",
      "/share/data/mei-work/kangrui/github/mango/kangrui/data/gpt-games-results-clean-new-new/wishbringer/results/pathgen-gpt-4/2023-06-28-23-50-15_350.json pair_min_cutoffs 65 > 45 exceeded, skip eval\n",
      "/share/data/mei-work/kangrui/github/mango/kangrui/data/gpt-games-results-clean-new-new/wishbringer/results/pathgen-gpt-4/results_2023-06-01-02-26-26_474.json pair_min_cutoffs 66 > 45 exceeded, skip eval\n",
      "/share/data/mei-work/kangrui/github/mango/kangrui/data/gpt-games-results-clean-new-new/wishbringer/results/pathgen-gpt-4/2023-06-28-23-42-39_026.json pair_min_cutoffs 57 > 45 exceeded, skip eval\n",
      "/share/data/mei-work/kangrui/github/mango/kangrui/data/gpt-games-results-clean-new-new/wishbringer/results/pathgen-gpt-4/2023-06-28-23-43-59_322.json pair_min_cutoffs 65 > 45 exceeded, skip eval\n",
      "/share/data/mei-work/kangrui/github/mango/kangrui/data/gpt-games-results-clean-new-new/wishbringer/results/pathgen-gpt-4/2023-06-28-23-45-32_903.json pair_min_cutoffs 64 > 45 exceeded, skip eval\n",
      "/share/data/mei-work/kangrui/github/mango/kangrui/data/gpt-games-results-clean-new-new/wishbringer/results/pathgen-gpt-4/2023-06-28-23-50-08_329.json pair_min_cutoffs 65 > 45 exceeded, skip eval\n",
      "/share/data/mei-work/kangrui/github/mango/kangrui/data/gpt-games-results-clean-new-new/wishbringer/results/pathgen-gpt-4/2023-06-28-23-42-18_975.json pair_min_cutoffs 65 > 45 exceeded, skip eval\n",
      "/share/data/mei-work/kangrui/github/mango/kangrui/data/gpt-games-results-clean-new-new/wishbringer/results/pathgen-gpt-4/2023-06-28-23-47-07_560.json pair_min_cutoffs 65 > 45 exceeded, skip eval\n",
      "/share/data/mei-work/kangrui/github/mango/kangrui/data/gpt-games-results-clean-new-new/wishbringer/results/pathgen-gpt-4/results_2023-06-01-02-15-13_767.json pair_min_cutoffs 67 > 45 exceeded, skip eval\n",
      "/share/data/mei-work/kangrui/github/mango/kangrui/data/gpt-games-results-clean-new-new/wishbringer/results/pathgen-gpt-4/results_2023-06-01-02-23-11_210.json pair_min_cutoffs 67 > 45 exceeded, skip eval\n",
      "/share/data/mei-work/kangrui/github/mango/kangrui/data/gpt-games-results-clean-new-new/wishbringer/results/pathgen-gpt-4/2023-06-28-23-41-59_716.json pair_min_cutoffs 64 > 45 exceeded, skip eval\n",
      "/share/data/mei-work/kangrui/github/mango/kangrui/data/gpt-games-results-clean-new-new/wishbringer/results/pathgen-gpt-4/2023-06-29-00-03-17_261.json pair_min_cutoffs 65 > 45 exceeded, skip eval\n",
      "/share/data/mei-work/kangrui/github/mango/kangrui/data/gpt-games-results-clean-new-new/wishbringer/results/pathgen-gpt-4/2023-06-28-23-49-23_533.json pair_min_cutoffs 65 > 45 exceeded, skip eval\n",
      "/share/data/mei-work/kangrui/github/mango/kangrui/data/gpt-games-results-clean-new-new/wishbringer/results/pathgen-gpt-4/2023-06-28-23-56-37_668.json pair_min_cutoffs 47 > 45 exceeded, skip eval\n",
      "/share/data/mei-work/kangrui/github/mango/kangrui/data/gpt-games-results-clean-new-new/wishbringer/results/pathgen-gpt-4/2023-06-28-23-59-16_002.json pair_min_cutoffs 65 > 45 exceeded, skip eval\n",
      "/share/data/mei-work/kangrui/github/mango/kangrui/data/gpt-games-results-clean-new-new/wishbringer/results/pathgen-gpt-4/2023-06-28-23-46-15_686.json pair_min_cutoffs 65 > 45 exceeded, skip eval\n",
      "/share/data/mei-work/kangrui/github/mango/kangrui/data/gpt-games-results-clean-new-new/wishbringer/results/pathgen-gpt-4/2023-06-28-23-50-40_099.json pair_min_cutoffs 65 > 45 exceeded, skip eval\n",
      "/share/data/mei-work/kangrui/github/mango/kangrui/data/gpt-games-results-clean-new-new/wishbringer/results/pathgen-gpt-4/results_2023-06-01-02-17-12_258.json pair_min_cutoffs 66 > 45 exceeded, skip eval\n",
      "/share/data/mei-work/kangrui/github/mango/kangrui/data/gpt-games-results-clean-new-new/wishbringer/results/pathgen-gpt-4/results_2023-06-01-02-30-24_881.json pair_min_cutoffs 67 > 45 exceeded, skip eval\n",
      "/share/data/mei-work/kangrui/github/mango/kangrui/data/gpt-games-results-clean-new-new/wishbringer/results/pathgen-gpt-4/results_2023-06-01-02-30-49_479.json pair_min_cutoffs 48 > 45 exceeded, skip eval\n",
      "/share/data/mei-work/kangrui/github/mango/kangrui/data/gpt-games-results-clean-new-new/wishbringer/results/pathgen-gpt-4/2023-06-28-23-46-21_440.json pair_min_cutoffs 57 > 45 exceeded, skip eval\n",
      "/share/data/mei-work/kangrui/github/mango/kangrui/data/gpt-games-results-clean-new-new/wishbringer/results/pathgen-gpt-4/2023-06-28-23-44-09_006.json pair_min_cutoffs 65 > 45 exceeded, skip eval\n",
      "/share/data/mei-work/kangrui/github/mango/kangrui/data/gpt-games-results-clean-new-new/wishbringer/results/pathgen-gpt-4/results_2023-06-01-02-35-01_502.json pair_min_cutoffs 48 > 45 exceeded, skip eval\n",
      "/share/data/mei-work/kangrui/github/mango/kangrui/data/gpt-games-results-clean-new-new/wishbringer/results/pathgen-gpt-4/2023-06-29-00-03-02_123.json pair_min_cutoffs 65 > 45 exceeded, skip eval\n",
      "/share/data/mei-work/kangrui/github/mango/kangrui/data/gpt-games-results-clean-new-new/wishbringer/results/pathgen-gpt-4/results_2023-06-01-02-17-24_801.json pair_min_cutoffs 48 > 45 exceeded, skip eval\n",
      "/share/data/mei-work/kangrui/github/mango/kangrui/data/gpt-games-results-clean-new-new/wishbringer/results/pathgen-gpt-4/2023-06-29-00-04-10_087.json pair_min_cutoffs 65 > 45 exceeded, skip eval\n",
      "/share/data/mei-work/kangrui/github/mango/kangrui/data/gpt-games-results-clean-new-new/wishbringer/results/pathgen-gpt-4/2023-06-28-23-48-56_239.json pair_min_cutoffs 65 > 45 exceeded, skip eval\n",
      "/share/data/mei-work/kangrui/github/mango/kangrui/data/gpt-games-results-clean-new-new/wishbringer/results/pathgen-gpt-4/results_2023-06-01-02-27-38_822.json pair_min_cutoffs 67 > 45 exceeded, skip eval\n",
      "/share/data/mei-work/kangrui/github/mango/kangrui/data/gpt-games-results-clean-new-new/wishbringer/results/pathgen-gpt-4/2023-06-29-00-04-53_669.json pair_min_cutoffs 65 > 45 exceeded, skip eval\n"
     ]
    },
    {
     "name": "stdout",
     "output_type": "stream",
     "text": [
      "/share/data/mei-work/kangrui/github/mango/kangrui/data/gpt-games-results-clean-new-new/wishbringer/results/pathgen-gpt-4/2023-06-28-23-56-31_325.json pair_min_cutoffs 64 > 45 exceeded, skip eval\n",
      "/share/data/mei-work/kangrui/github/mango/kangrui/data/gpt-games-results-clean-new-new/wishbringer/results/pathgen-gpt-4/2023-06-29-00-02-26_930.json pair_min_cutoffs 65 > 45 exceeded, skip eval\n",
      "/share/data/mei-work/kangrui/github/mango/kangrui/data/gpt-games-results-clean-new-new/wishbringer/results/pathgen-gpt-4/2023-06-29-00-05-41_406.json pair_min_cutoffs 65 > 45 exceeded, skip eval\n",
      "/share/data/mei-work/kangrui/github/mango/kangrui/data/gpt-games-results-clean-new-new/wishbringer/results/pathgen-gpt-4/results_2023-06-01-02-27-32_084.json pair_min_cutoffs 48 > 45 exceeded, skip eval\n",
      "/share/data/mei-work/kangrui/github/mango/kangrui/data/gpt-games-results-clean-new-new/wishbringer/results/pathgen-gpt-4/results_2023-06-01-02-35-45_651.json pair_min_cutoffs 48 > 45 exceeded, skip eval\n",
      "/share/data/mei-work/kangrui/github/mango/kangrui/data/gpt-games-results-clean-new-new/wishbringer/results/pathgen-gpt-4/2023-06-28-23-57-00_687.json pair_min_cutoffs 65 > 45 exceeded, skip eval\n",
      "/share/data/mei-work/kangrui/github/mango/kangrui/data/gpt-games-results-clean-new-new/wishbringer/results/pathgen-gpt-4/2023-06-28-23-41-18_399.json pair_min_cutoffs 65 > 45 exceeded, skip eval\n",
      "/share/data/mei-work/kangrui/github/mango/kangrui/data/gpt-games-results-clean-new-new/wishbringer/results/pathgen-gpt-4/results_2023-06-01-02-32-39_037.json pair_min_cutoffs 66 > 45 exceeded, skip eval\n",
      "/share/data/mei-work/kangrui/github/mango/kangrui/data/gpt-games-results-clean-new-new/wishbringer/results/pathgen-gpt-4/2023-06-28-23-49-59_705.json pair_min_cutoffs 65 > 45 exceeded, skip eval\n",
      "/share/data/mei-work/kangrui/github/mango/kangrui/data/gpt-games-results-clean-new-new/wishbringer/results/pathgen-gpt-4/2023-06-28-23-59-48_363.json pair_min_cutoffs 65 > 45 exceeded, skip eval\n",
      "/share/data/mei-work/kangrui/github/mango/kangrui/data/gpt-games-results-clean-new-new/wishbringer/results/pathgen-gpt-4/results_2023-06-01-02-23-04_843.json pair_min_cutoffs 48 > 45 exceeded, skip eval\n",
      "/share/data/mei-work/kangrui/github/mango/kangrui/data/gpt-games-results-clean-new-new/wishbringer/results/pathgen-gpt-4/results_2023-06-01-02-40-29_064.json pair_min_cutoffs 48 > 45 exceeded, skip eval\n",
      "/share/data/mei-work/kangrui/github/mango/kangrui/data/gpt-games-results-clean-new-new/wishbringer/results/pathgen-gpt-4/results_2023-06-01-02-28-34_255.json pair_min_cutoffs 48 > 45 exceeded, skip eval\n",
      "/share/data/mei-work/kangrui/github/mango/kangrui/data/gpt-games-results-clean-new-new/wishbringer/results/pathgen-gpt-4/2023-06-29-00-03-37_998.json pair_min_cutoffs 65 > 45 exceeded, skip eval\n",
      "/share/data/mei-work/kangrui/github/mango/kangrui/data/gpt-games-results-clean-new-new/wishbringer/results/pathgen-gpt-4/2023-06-29-00-04-16_337.json pair_min_cutoffs 65 > 45 exceeded, skip eval\n",
      "/share/data/mei-work/kangrui/github/mango/kangrui/data/gpt-games-results-clean-new-new/wishbringer/results/pathgen-gpt-4/results_2023-06-01-02-28-00_230.json pair_min_cutoffs 67 > 45 exceeded, skip eval\n",
      "/share/data/mei-work/kangrui/github/mango/kangrui/data/gpt-games-results-clean-new-new/wishbringer/results/pathgen-gpt-4/2023-06-28-23-50-32_262.json pair_min_cutoffs 65 > 45 exceeded, skip eval\n",
      "/share/data/mei-work/kangrui/github/mango/kangrui/data/gpt-games-results-clean-new-new/wishbringer/results/pathgen-gpt-4/2023-06-28-23-45-23_143.json pair_min_cutoffs 65 > 45 exceeded, skip eval\n",
      "/share/data/mei-work/kangrui/github/mango/kangrui/data/gpt-games-results-clean-new-new/wishbringer/results/pathgen-gpt-4/results_2023-06-01-02-31-50_399.json pair_min_cutoffs 48 > 45 exceeded, skip eval\n",
      "/share/data/mei-work/kangrui/github/mango/kangrui/data/gpt-games-results-clean-new-new/wishbringer/results/pathgen-gpt-4/2023-06-28-23-46-56_101.json pair_min_cutoffs 65 > 45 exceeded, skip eval\n",
      "/share/data/mei-work/kangrui/github/mango/kangrui/data/gpt-games-results-clean-new-new/wishbringer/results/pathgen-gpt-4/2023-06-29-00-06-06_526.json pair_min_cutoffs 65 > 45 exceeded, skip eval\n",
      "/share/data/mei-work/kangrui/github/mango/kangrui/data/gpt-games-results-clean-new-new/wishbringer/results/pathgen-gpt-4/2023-06-29-00-03-54_526.json pair_min_cutoffs 65 > 45 exceeded, skip eval\n",
      "/share/data/mei-work/kangrui/github/mango/kangrui/data/gpt-games-results-clean-new-new/wishbringer/results/pathgen-gpt-4/2023-06-28-23-41-41_391.json pair_min_cutoffs 65 > 45 exceeded, skip eval\n",
      "/share/data/mei-work/kangrui/github/mango/kangrui/data/gpt-games-results-clean-new-new/wishbringer/results/pathgen-gpt-4/results_2023-06-01-02-21-16_418.json pair_min_cutoffs 66 > 45 exceeded, skip eval\n",
      "/share/data/mei-work/kangrui/github/mango/kangrui/data/gpt-games-results-clean-new-new/wishbringer/results/pathgen-gpt-4/results_2023-06-01-02-35-35_264.json pair_min_cutoffs 67 > 45 exceeded, skip eval\n",
      "/share/data/mei-work/kangrui/github/mango/kangrui/data/gpt-games-results-clean-new-new/wishbringer/results/pathgen-gpt-4/results_2023-06-01-02-36-57_330.json pair_min_cutoffs 66 > 45 exceeded, skip eval\n",
      "/share/data/mei-work/kangrui/github/mango/kangrui/data/gpt-games-results-clean-new-new/wishbringer/results/pathgen-gpt-4/2023-06-28-23-43-15_264.json pair_min_cutoffs 65 > 45 exceeded, skip eval\n",
      "/share/data/mei-work/kangrui/github/mango/kangrui/data/gpt-games-results-clean-new-new/wishbringer/results/pathgen-gpt-4/results_2023-06-01-02-32-45_103.json pair_min_cutoffs 48 > 45 exceeded, skip eval\n",
      "/share/data/mei-work/kangrui/github/mango/kangrui/data/gpt-games-results-clean-new-new/wishbringer/results/pathgen-gpt-4/2023-06-28-23-40-58_835.json pair_min_cutoffs 65 > 45 exceeded, skip eval\n",
      "/share/data/mei-work/kangrui/github/mango/kangrui/data/gpt-games-results-clean-new-new/wishbringer/results/pathgen-gpt-4/2023-06-28-23-58-57_594.json pair_min_cutoffs 65 > 45 exceeded, skip eval\n",
      "/share/data/mei-work/kangrui/github/mango/kangrui/data/gpt-games-results-clean-new-new/wishbringer/results/pathgen-gpt-4/2023-06-28-23-49-09_261.json pair_min_cutoffs 64 > 45 exceeded, skip eval\n",
      "/share/data/mei-work/kangrui/github/mango/kangrui/data/gpt-games-results-clean-new-new/wishbringer/results/pathgen-gpt-4/2023-06-28-23-58-29_900.json pair_min_cutoffs 65 > 45 exceeded, skip eval\n",
      "/share/data/mei-work/kangrui/github/mango/kangrui/data/gpt-games-results-clean-new-new/wishbringer/results/pathgen-gpt-4/results_2023-06-01-02-29-50_173.json pair_min_cutoffs 48 > 45 exceeded, skip eval\n",
      "/share/data/mei-work/kangrui/github/mango/kangrui/data/gpt-games-results-clean-new-new/wishbringer/results/pathgen-gpt-4/2023-06-28-23-48-19_242.json pair_min_cutoffs 65 > 45 exceeded, skip eval\n",
      "/share/data/mei-work/kangrui/github/mango/kangrui/data/gpt-games-results-clean-new-new/wishbringer/results/pathgen-gpt-4/results_2023-06-01-02-25-03_119.json pair_min_cutoffs 48 > 45 exceeded, skip eval\n",
      "/share/data/mei-work/kangrui/github/mango/kangrui/data/gpt-games-results-clean-new-new/wishbringer/results/pathgen-gpt-4/2023-06-28-23-59-25_390.json pair_min_cutoffs 65 > 45 exceeded, skip eval\n",
      "/share/data/mei-work/kangrui/github/mango/kangrui/data/gpt-games-results-clean-new-new/wishbringer/results/pathgen-gpt-4/results_2023-06-01-02-28-50_169.json pair_min_cutoffs 67 > 45 exceeded, skip eval\n",
      "/share/data/mei-work/kangrui/github/mango/kangrui/data/gpt-games-results-clean-new-new/wishbringer/results/pathgen-gpt-4/2023-06-29-00-04-33_978.json pair_min_cutoffs 65 > 45 exceeded, skip eval\n",
      "/share/data/mei-work/kangrui/github/mango/kangrui/data/gpt-games-results-clean-new-new/wishbringer/results/pathgen-gpt-4/results_2023-06-01-02-26-20_883.json pair_min_cutoffs 48 > 45 exceeded, skip eval\n",
      "/share/data/mei-work/kangrui/github/mango/kangrui/data/gpt-games-results-clean-new-new/wishbringer/results/pathgen-gpt-4/results_2023-06-01-02-35-40_476.json pair_min_cutoffs 66 > 45 exceeded, skip eval\n",
      "/share/data/mei-work/kangrui/github/mango/kangrui/data/gpt-games-results-clean-new-new/wishbringer/results/pathgen-gpt-4/results_2023-06-01-02-29-53_034.json pair_min_cutoffs 66 > 45 exceeded, skip eval\n",
      "/share/data/mei-work/kangrui/github/mango/kangrui/data/gpt-games-results-clean-new-new/wishbringer/results/pathgen-gpt-4/results_2023-06-01-02-35-51_784.json pair_min_cutoffs 66 > 45 exceeded, skip eval\n",
      "/share/data/mei-work/kangrui/github/mango/kangrui/data/gpt-games-results-clean-new-new/wishbringer/results/pathgen-gpt-4/results_2023-06-01-02-19-20_847.json pair_min_cutoffs 48 > 45 exceeded, skip eval\n",
      "/share/data/mei-work/kangrui/github/mango/kangrui/data/gpt-games-results-clean-new-new/wishbringer/results/pathgen-gpt-4/results_2023-06-01-02-36-14_179.json pair_min_cutoffs 66 > 45 exceeded, skip eval\n",
      "/share/data/mei-work/kangrui/github/mango/kangrui/data/gpt-games-results-clean-new-new/wishbringer/results/pathgen-gpt-4/results_2023-06-01-02-23-00_611.json pair_min_cutoffs 66 > 45 exceeded, skip eval\n",
      "/share/data/mei-work/kangrui/github/mango/kangrui/data/gpt-games-results-clean-new-new/wishbringer/results/pathgen-gpt-4/results_2023-06-01-02-14-44_165.json pair_min_cutoffs 48 > 45 exceeded, skip eval\n",
      "/share/data/mei-work/kangrui/github/mango/kangrui/data/gpt-games-results-clean-new-new/wishbringer/results/pathgen-gpt-4/results_2023-06-01-02-28-36_312.json pair_min_cutoffs 66 > 45 exceeded, skip eval\n",
      "/share/data/mei-work/kangrui/github/mango/kangrui/data/gpt-games-results-clean-new-new/wishbringer/results/pathgen-gpt-4/results_2023-06-01-02-24-49_343.json pair_min_cutoffs 66 > 45 exceeded, skip eval\n",
      "/share/data/mei-work/kangrui/github/mango/kangrui/data/gpt-games-results-clean-new-new/wishbringer/results/pathgen-gpt-4/2023-06-28-23-43-29_168.json pair_min_cutoffs 65 > 45 exceeded, skip eval\n"
     ]
    }
   ],
   "source": [
    "G_eval,G,actions,locations,all2all,all_pairs,walkthrough=get_game_info_with_G_eval(map_dir,game_name)\n",
    "rst,easy_wrong,hard_wrong=get_wrong_qa(game_name,result_dir,G_eval,all2all,all_pairs,task_type='pathgen',model_name='gpt-4',eval_difficulty='loose',eval_set=None)"
   ]
  },
  {
   "cell_type": "code",
   "execution_count": 9,
   "id": "0c133c78",
   "metadata": {},
   "outputs": [
    {
     "name": "stdout",
     "output_type": "stream",
     "text": [
      "{'success_cnt': 183, 'reasoning_cnt': 183, 'total': 222, 'hard_success_cnt': 37, 'hard_reasoning_cnt': 37, 'hard_total': 47, 'easy_success_cnt': 146, 'easy_reasoning_cnt': 146, 'easy_total': 175, 'total_evaluted': 222, 'total_format_failed': 0}\n"
     ]
    }
   ],
   "source": [
    "print(rst)"
   ]
  },
  {
   "cell_type": "code",
   "execution_count": 10,
   "id": "53ff9c98",
   "metadata": {},
   "outputs": [
    {
     "name": "stdout",
     "output_type": "stream",
     "text": [
      "/share/data/mei-work/kangrui/github/mango/kangrui/data/gpt-games-results-clean-new-new/wishbringer/results/pathgen-gpt-4/results_2023-06-01-02-31-14_499.json\n",
      "/share/data/mei-work/kangrui/github/mango/kangrui/data/gpt-games-results-clean-new-new/wishbringer/results/pathgen-gpt-4/results_2023-06-01-02-17-27_150.json\n",
      "/share/data/mei-work/kangrui/github/mango/kangrui/data/gpt-games-results-clean-new-new/wishbringer/results/pathgen-gpt-4/results_2023-06-01-02-30-53_472.json\n",
      "/share/data/mei-work/kangrui/github/mango/kangrui/data/gpt-games-results-clean-new-new/wishbringer/results/pathgen-gpt-4/results_2023-06-01-02-23-29_073.json\n",
      "/share/data/mei-work/kangrui/github/mango/kangrui/data/gpt-games-results-clean-new-new/wishbringer/results/pathgen-gpt-4/results_2023-06-01-02-29-50_894.json\n"
     ]
    }
   ],
   "source": [
    "for file in random.sample(easy_wrong,5) if len(easy_wrong)>=5 else easy_wrong:\n",
    "    print(file)"
   ]
  },
  {
   "cell_type": "code",
   "execution_count": 67,
   "id": "c16d6ebb",
   "metadata": {},
   "outputs": [],
   "source": [
    "for file in random.sample(hard_wrong,5) if len(hard_wrong)>=5 else hard_wrong:\n",
    "    print(file)"
   ]
  },
  {
   "cell_type": "code",
   "execution_count": 68,
   "id": "cb80d141",
   "metadata": {},
   "outputs": [
    {
     "name": "stdout",
     "output_type": "stream",
     "text": [
      "/share/data/mei-work/kangrui/github/mango/kangrui/data/gpt-games-results-clean-new-new/lostpig/results/pathgen-gpt-3.5-turbo/results_2023-05-30-23-55-29_774.json pair_min_cutoffs 70 > 56 exceeded, skip eval\n",
      "/share/data/mei-work/kangrui/github/mango/kangrui/data/gpt-games-results-clean-new-new/lostpig/results/pathgen-gpt-3.5-turbo/results_2023-05-30-23-55-10_141.json pair_min_cutoffs 70 > 56 exceeded, skip eval\n",
      "/share/data/mei-work/kangrui/github/mango/kangrui/data/gpt-games-results-clean-new-new/lostpig/results/pathgen-gpt-3.5-turbo/results_2023-05-30-23-55-41_333.json pair_min_cutoffs 70 > 56 exceeded, skip eval\n",
      "/share/data/mei-work/kangrui/github/mango/kangrui/data/gpt-games-results-clean-new-new/lostpig/results/pathgen-gpt-3.5-turbo/results_2023-05-30-23-54-32_771.json pair_min_cutoffs 70 > 56 exceeded, skip eval\n",
      "/share/data/mei-work/kangrui/github/mango/kangrui/data/gpt-games-results-clean-new-new/lostpig/results/pathgen-gpt-3.5-turbo/results_2023-05-30-23-54-52_694.json pair_min_cutoffs 70 > 56 exceeded, skip eval\n",
      "/share/data/mei-work/kangrui/github/mango/kangrui/data/gpt-games-results-clean-new-new/lostpig/results/pathgen-gpt-3.5-turbo/results_2023-05-30-23-55-32_749.json pair_min_cutoffs 70 > 56 exceeded, skip eval\n"
     ]
    }
   ],
   "source": [
    "G_eval,G,actions,locations,all2all,all_pairs,walkthrough=get_game_info_with_G_eval(map_dir,game_name)\n",
    "rst,easy_wrong,hard_wrong=get_wrong_qa(game_name,result_dir,G,all2all,all_pairs,task_type='pathgen',model_name='gpt-3.5-turbo',eval_difficulty='strict',eval_set=None)"
   ]
  },
  {
   "cell_type": "code",
   "execution_count": 69,
   "id": "3b4caa2f",
   "metadata": {},
   "outputs": [
    {
     "name": "stdout",
     "output_type": "stream",
     "text": [
      "{'success_cnt': 5, 'reasoning_cnt': 5, 'total': 25, 'hard_success_cnt': 1, 'hard_reasoning_cnt': 1, 'hard_total': 9, 'easy_success_cnt': 4, 'easy_reasoning_cnt': 4, 'easy_total': 16, 'total_evaluted': 25, 'total_format_failed': 0}\n"
     ]
    }
   ],
   "source": [
    "print(rst)"
   ]
  },
  {
   "cell_type": "code",
   "execution_count": 52,
   "id": "fe9ee623",
   "metadata": {},
   "outputs": [
    {
     "name": "stdout",
     "output_type": "stream",
     "text": [
      "/share/data/mei-work/kangrui/github/mango/kangrui/data/gpt-games-results-clean-new-new/wishbringer/results/pathgen-gpt-3.5-turbo/results_2023-06-01-02-02-31_508.json\n",
      "/share/data/mei-work/kangrui/github/mango/kangrui/data/gpt-games-results-clean-new-new/wishbringer/results/pathgen-gpt-3.5-turbo/results_2023-06-01-02-03-35_244.json\n",
      "/share/data/mei-work/kangrui/github/mango/kangrui/data/gpt-games-results-clean-new-new/wishbringer/results/pathgen-gpt-3.5-turbo/2023-06-19-04-33-13_782.json\n",
      "/share/data/mei-work/kangrui/github/mango/kangrui/data/gpt-games-results-clean-new-new/wishbringer/results/pathgen-gpt-3.5-turbo/results_2023-06-01-02-06-26_340.json\n",
      "/share/data/mei-work/kangrui/github/mango/kangrui/data/gpt-games-results-clean-new-new/wishbringer/results/pathgen-gpt-3.5-turbo/results_2023-06-01-02-01-36_183.json\n"
     ]
    }
   ],
   "source": [
    "for file in random.sample(easy_wrong,5) if len(easy_wrong)>=5 else easy_wrong:\n",
    "    print(file)"
   ]
  },
  {
   "cell_type": "code",
   "execution_count": 13,
   "id": "77284e68",
   "metadata": {},
   "outputs": [],
   "source": [
    "for file in random.sample(hard_wrong,5) if len(hard_wrong)>=5 else hard_wrong:\n",
    "    print(file)"
   ]
  },
  {
   "cell_type": "code",
   "execution_count": 13,
   "id": "8d00d75c",
   "metadata": {},
   "outputs": [],
   "source": [
    "# def get_map_info_for_gpt(G,actions,locations,all2all,all_pairs,walkthrough,token_size_limit=3600,model_name=\"gpt-4\"):\n",
    "#     assert model_name in [\"gpt-3.5-turbo\",\"gpt-4\"]\n",
    "#     walkthrough_text,cut_off_number=get_cut_off_and_walkthrough_text(walkthrough,token_size_limit,model_name)\n",
    "\n",
    "#     mean_df_easy_step=0\n",
    "#     mean_df_hard_step=0\n",
    "#     mean_rf_easy_step=0\n",
    "#     mean_rf_hard_step=0"
   ]
  },
  {
   "cell_type": "code",
   "execution_count": null,
   "id": "a44d3371",
   "metadata": {},
   "outputs": [],
   "source": []
  }
 ],
 "metadata": {
  "kernelspec": {
   "display_name": "Python 3 (ipykernel)",
   "language": "python",
   "name": "python3"
  },
  "language_info": {
   "codemirror_mode": {
    "name": "ipython",
    "version": 3
   },
   "file_extension": ".py",
   "mimetype": "text/x-python",
   "name": "python",
   "nbconvert_exporter": "python",
   "pygments_lexer": "ipython3",
   "version": "3.8.16"
  }
 },
 "nbformat": 4,
 "nbformat_minor": 5
}

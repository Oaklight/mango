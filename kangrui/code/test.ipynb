{
 "cells": [
  {
   "cell_type": "code",
   "execution_count": 8,
   "id": "bfed2f63",
   "metadata": {},
   "outputs": [],
   "source": [
    "import os.path as osp\n",
    "import os\n",
    "import pandas as pd\n",
    "import networkx as nx\n",
    "from utils.utils import get_timetsamp_with_random\n",
    "from utils.map_utils import get_game_info,show_graph_info,get_game_info_with_G_eval\n",
    "import matplotlib.pyplot as plt\n",
    "import json\n",
    "from utils.gpt_prompt_utils import get_pretext,get_question"
   ]
  },
  {
   "cell_type": "code",
   "execution_count": 9,
   "id": "3131354b",
   "metadata": {},
   "outputs": [],
   "source": [
    "map_dir='/share/data/mei-work/kangrui/github/mango/data/'\n",
    "game_name='ztuu'"
   ]
  },
  {
   "cell_type": "code",
   "execution_count": 10,
   "id": "c796fc48",
   "metadata": {},
   "outputs": [],
   "source": [
    "G_eval,G,actions,locations,all2all,all_pairs,walkthrough=get_game_info_with_G_eval(map_dir,game_name)\n"
   ]
  },
  {
   "cell_type": "code",
   "execution_count": 11,
   "id": "d0e8608c",
   "metadata": {},
   "outputs": [],
   "source": [
    "pretext=get_pretext(actions,locations,walkthrough,3600,'gpt-4')"
   ]
  },
  {
   "cell_type": "code",
   "execution_count": 12,
   "id": "7550a830",
   "metadata": {},
   "outputs": [
    {
     "name": "stdout",
     "output_type": "stream",
     "text": [
      "{'src_node': 'Cultural Complex', 'dst_node': 'Convention Center Lobby', 'diff_shortest': 0, 'path_details': [{'prev_node': 'Cultural Complex', 'node': 'Convention Center Lobby', 'action': 'north', 'seen_in_forward': True, 'step_min_cutoff': 4}], 'step_count': 1, 'path_min_cutoff': 4, 'all_steps_seen_in_forward': True, 'id': '0ac2179cab7ac2660f21a96b92b587937164e925337872411bb2af45b3717cfa'}\n"
     ]
    }
   ],
   "source": [
    "for data in all2all:\n",
    "    if data['id']=='0ac2179cab7ac2660f21a96b92b587937164e925337872411bb2af45b3717cfa':\n",
    "        obj=data\n",
    "        print(data)\n",
    "    "
   ]
  },
  {
   "cell_type": "code",
   "execution_count": 15,
   "id": "8f3b937e",
   "metadata": {},
   "outputs": [],
   "source": [
    "rst=get_question(obj,'stepnav')"
   ]
  },
  {
   "cell_type": "code",
   "execution_count": 16,
   "id": "990acc01",
   "metadata": {},
   "outputs": [
    {
     "data": {
      "text/plain": [
       "{'task': 'stepnav',\n",
       " 'src_node': 'Cultural Complex',\n",
       " 'action_list': ['north'],\n",
       " 'dst_node': 'Convention Center Lobby',\n",
       " 'task_id': '0ac2179cab7ac2660f21a96b92b587937164e925337872411bb2af45b3717cfa',\n",
       " 'path_gt': [{'prev_node': 'Cultural Complex',\n",
       "   'node': 'Convention Center Lobby',\n",
       "   'action': 'north',\n",
       "   'seen_in_forward': True,\n",
       "   'step_min_cutoff': 4}],\n",
       " 'question': \"\\n    Starting from place Cultural Complex, perform a list of action ['north'], where are you now? Describe the trajectory in a python list of python dictionary with keys 'prev_node', 'node' and 'action'. Start your response with '['.\\n    \"}"
      ]
     },
     "execution_count": 16,
     "metadata": {},
     "output_type": "execute_result"
    }
   ],
   "source": [
    "rst"
   ]
  },
  {
   "cell_type": "code",
   "execution_count": null,
   "id": "e0293e15",
   "metadata": {},
   "outputs": [],
   "source": []
  }
 ],
 "metadata": {
  "kernelspec": {
   "display_name": "mango",
   "language": "python",
   "name": "mango"
  },
  "language_info": {
   "codemirror_mode": {
    "name": "ipython",
    "version": 3
   },
   "file_extension": ".py",
   "mimetype": "text/x-python",
   "name": "python",
   "nbconvert_exporter": "python",
   "pygments_lexer": "ipython3",
   "version": "3.9.7"
  }
 },
 "nbformat": 4,
 "nbformat_minor": 5
}

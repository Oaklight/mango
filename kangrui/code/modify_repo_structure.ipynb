{
 "cells": [
  {
   "cell_type": "code",
   "execution_count": 1,
   "id": "d7cb8cba",
   "metadata": {},
   "outputs": [],
   "source": [
    "import os\n",
    "import os.path as osp\n",
    "import networkx as nx\n",
    "import json\n",
    "import matplotlib.pyplot as plt\n",
    "import csv\n",
    "import pandas as pd\n",
    "import subprocess\n",
    "# build graph for game\n",
    "from utils.map_utils_old import get_game_info,get_edge\n",
    "from utils.clean_utils import compute_hash_for_path,compute_hash_for_pair"
   ]
  },
  {
   "cell_type": "code",
   "execution_count": 2,
   "id": "a5c6cad2",
   "metadata": {},
   "outputs": [],
   "source": [
    "# note book input\n",
    "map_dir='/share/data/mei-work/kangrui/github/mango/data-intermediate/'\n",
    "new_map_dir='/share/data/mei-work/kangrui/github/mango/data/'"
   ]
  },
  {
   "cell_type": "code",
   "execution_count": 3,
   "id": "ced93a43",
   "metadata": {},
   "outputs": [],
   "source": [
    "\n",
    "def replace_str_in_dict(obj, replace_dict):\n",
    "    if isinstance(obj, dict):\n",
    "        return {k: replace_str_in_dict(v, replace_dict) for k, v in obj.items()}\n",
    "    elif isinstance(obj, list):\n",
    "        return [replace_str_in_dict(i, replace_dict) for i in obj]\n",
    "    elif isinstance(obj, str):\n",
    "        if obj in replace_dict.keys():\n",
    "            \n",
    "            obj = replace_dict[obj]\n",
    "        return obj\n",
    "    else:\n",
    "        return obj\n",
    "    "
   ]
  },
  {
   "cell_type": "code",
   "execution_count": 4,
   "id": "7cef2cb7",
   "metadata": {},
   "outputs": [
    {
     "name": "stdout",
     "output_type": "stream",
     "text": [
      "[Errno 2] No such file or directory: '/share/data/mei-work/kangrui/github/mango/data-intermediate/theatre/theatre.all2all.json'\n",
      "[Errno 2] No such file or directory: '/share/data/mei-work/kangrui/github/mango/data-intermediate/weapon/weapon.all2all.json'\n",
      "[Errno 2] No such file or directory: '/share/data/mei-work/kangrui/github/mango/data-intermediate/acorncourt/acorncourt.all2all.json'\n"
     ]
    }
   ],
   "source": [
    "for game_name in os.listdir(map_dir):\n",
    "    \n",
    "    try:\n",
    "        G,all2all,all_pairs,anno2code,code2anno=get_game_info(map_dir,game_name)\n",
    "    except Exception as e:\n",
    "        print(e)\n",
    "        continue\n",
    "    \n",
    "    edges=[]\n",
    "    for edge in G.edges(data=True):\n",
    "        edges.append({\n",
    "            \"prev_node\":edge[0],\n",
    "            \"node\":edge[1],\n",
    "            \"action\":edge[2]['action'],\n",
    "            \"seen_in_forward\": True if edge[2]['desc']=='forward' else False,\n",
    "            \"step_min_cutoff\":edge[2]['step_min_cutoff'],\n",
    "        })\n",
    "        \n",
    "    edges=replace_str_in_dict(edges, code2anno)\n",
    "    all2all_new=replace_str_in_dict(all2all, code2anno)\n",
    "    all_pairs_new=replace_str_in_dict(all_pairs, code2anno)\n",
    "    locations=[k for k in anno2code.keys()]\n",
    "    \n",
    "    all2all_new_new=[]\n",
    "    for path in all2all_new:\n",
    "        hashcode=compute_hash_for_path(path[\"path_details\"])\n",
    "        path['id']=hashcode\n",
    "        all2all_new_new.append(path)\n",
    "    \n",
    "    all_pairs_new_new=[]\n",
    "    for pair in all_pairs_new:\n",
    "        hashcode=compute_hash_for_pair(pair)\n",
    "        pair['id']=hashcode\n",
    "        if pair[\"num_paths\"]>=1: # valid pair\n",
    "            all_pairs_new_new.append(pair)\n",
    "            \n",
    "    all2all_path=osp.join(new_map_dir,game_name,f\"{game_name}.all2all.json\")\n",
    "    all_pairs_path=osp.join(new_map_dir,game_name,f\"{game_name}.all_pairs.json\")\n",
    "    location_path=osp.join(new_map_dir,game_name,f\"{game_name}.locations.json\")\n",
    "    edges_path=osp.join(new_map_dir,game_name,f\"{game_name}.edges.json\")\n",
    "    \n",
    "    walkthrough_path_old=osp.join(map_dir,game_name,f\"{game_name}.walkthrough\")\n",
    "    step_path_old=osp.join(map_dir,game_name,f\"{game_name}.moves\")\n",
    "    step_path_new=osp.join(new_map_dir,game_name,f\"{game_name}.actions.json\")\n",
    "    \n",
    "    with open(step_path_old, 'r') as file:\n",
    "        actions = [line.strip() for line in file]\n",
    "    \n",
    "    if not osp.exists(osp.join(new_map_dir,game_name)):\n",
    "        os.makedirs(osp.join(new_map_dir,game_name))\n",
    "    \n",
    "    with open(all2all_path, 'w') as json_file:\n",
    "        json.dump(all2all_new_new, json_file,indent=4)\n",
    "        \n",
    "    with open(all_pairs_path, 'w') as json_file:\n",
    "        json.dump(all_pairs_new_new, json_file,indent=4)\n",
    "        \n",
    "    with open(edges_path, 'w') as json_file:\n",
    "        json.dump(edges, json_file,indent=4)\n",
    "        \n",
    "    with open(location_path, 'w') as json_file:\n",
    "        json.dump(locations, json_file,indent=4)\n",
    "        \n",
    "    with open(step_path_new, 'w') as json_file:\n",
    "        json.dump(actions, json_file,indent=4)\n",
    "    \n",
    "    \n",
    "    \n",
    "    subprocess.run([\"cp\",walkthrough_path_old, osp.join(new_map_dir,game_name)], check=True)\n",
    "#     subprocess.run([\"rm\",osp.join(new_map_dir,game_name,f\"{game_name}.moves\")], check=True)"
   ]
  },
  {
   "cell_type": "code",
   "execution_count": null,
   "id": "ad7152b7",
   "metadata": {},
   "outputs": [],
   "source": []
  },
  {
   "cell_type": "code",
   "execution_count": null,
   "id": "1fd91ea4",
   "metadata": {},
   "outputs": [],
   "source": []
  }
 ],
 "metadata": {
  "kernelspec": {
   "display_name": "mango",
   "language": "python",
   "name": "mango"
  },
  "language_info": {
   "codemirror_mode": {
    "name": "ipython",
    "version": 3
   },
   "file_extension": ".py",
   "mimetype": "text/x-python",
   "name": "python",
   "nbconvert_exporter": "python",
   "pygments_lexer": "ipython3",
   "version": "3.9.7"
  }
 },
 "nbformat": 4,
 "nbformat_minor": 5
}
